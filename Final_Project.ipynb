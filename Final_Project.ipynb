{
  "nbformat": 4,
  "nbformat_minor": 0,
  "metadata": {
    "colab": {
      "name": "Final_Project.ipynb",
      "provenance": [],
      "collapsed_sections": [
        "nFSK-PprmZCq"
      ]
    },
    "kernelspec": {
      "name": "python3",
      "display_name": "Python 3"
    },
    "language_info": {
      "name": "python"
    }
  },
  "cells": [
    {
      "cell_type": "code",
      "metadata": {
        "colab": {
          "base_uri": "https://localhost:8080/"
        },
        "id": "Jg7rOq-8XRqi",
        "outputId": "178b2209-9895-48d9-fc5d-63563cba88f9"
      },
      "source": [
        "from google.colab import drive\n",
        "drive.mount('/content/drive')"
      ],
      "execution_count": null,
      "outputs": [
        {
          "output_type": "stream",
          "text": [
            "Mounted at /content/drive\n"
          ],
          "name": "stdout"
        }
      ]
    },
    {
      "cell_type": "code",
      "metadata": {
        "id": "SN6f4jTDXqIQ",
        "colab": {
          "base_uri": "https://localhost:8080/"
        },
        "outputId": "9e82b75c-7f72-43fd-e37f-4858566a3852"
      },
      "source": [
        "import pandas as pd\n",
        "import numpy as np\n",
        "\n",
        "## import the modelings packages \n",
        "from sklearn import datasets\n",
        "from sklearn.feature_selection import RFE\n",
        "from sklearn.linear_model import LogisticRegression\n",
        "\n",
        "# model evaluation\n",
        "from sklearn.model_selection import train_test_split\n",
        "from sklearn import metrics\n",
        "\n",
        "# a different linear regression package\n",
        "import statsmodels.formula.api as smf\n",
        "import statsmodels.api as sm\n",
        "\n",
        "# visualization\n",
        "import seaborn as sns\n",
        "import matplotlib.pyplot as plt"
      ],
      "execution_count": null,
      "outputs": [
        {
          "output_type": "stream",
          "text": [
            "/usr/local/lib/python3.7/dist-packages/statsmodels/tools/_testing.py:19: FutureWarning: pandas.util.testing is deprecated. Use the functions in the public API at pandas.testing instead.\n",
            "  import pandas.util.testing as tm\n"
          ],
          "name": "stderr"
        }
      ]
    },
    {
      "cell_type": "code",
      "metadata": {
        "id": "csnnL8aJjPOd"
      },
      "source": [
        "df_covid_perm = pd.read_csv(\"/content/drive/MyDrive/Final Project/live_us-counties.csv\")\n",
        "df_politic_perm = pd.read_csv(\"https://raw.githubusercontent.com/tonmcg/US_County_Level_Election_Results_08-20/master/2020_US_County_Level_Presidential_Results.csv\", encoding = \"latin-1\")\n",
        "df_vaccine_perm = pd.read_csv(\"/content/drive/MyDrive/Final Project/COVID-19_Vaccinations_in_the_United_States_County-2.csv\")\n",
        "#df_race_perm = pd.read_csv(\"https://www2.census.gov/programs-surveys/popest/datasets/2010-2019/counties/asrh/cc-est2019-alldata.csv\", encoding = \"latin-1\")\n",
        "df_income_perm = pd.read_csv(\"https://www.openintro.org/data/csv/county_complete.csv\", encoding = \"latin-1\")\n",
        "#https://www.openintro.org/data/?data=county_complete"
      ],
      "execution_count": null,
      "outputs": []
    },
    {
      "cell_type": "markdown",
      "metadata": {
        "id": "ZnNE2WLvhSWL"
      },
      "source": [
        "# **Data Cleaning**"
      ]
    },
    {
      "cell_type": "code",
      "metadata": {
        "id": "4zp9ajKCTVOj"
      },
      "source": [
        "df_covid = df_covid_perm\n",
        "df_race = df_race_perm\n",
        "df_income = df_income_perm\n",
        "df_vaccine = df_vaccine_perm\n",
        "df_politic = df_politic_perm"
      ],
      "execution_count": null,
      "outputs": []
    },
    {
      "cell_type": "code",
      "metadata": {
        "id": "YdHDUnnNbY5x"
      },
      "source": [
        "print(df_covid.dtypes)\n",
        "print(df_race.dtypes)\n",
        "print(df_income.dtypes)\n",
        "print(df_vaccine.dtypes)\n",
        "print(df_politic.dtypes)"
      ],
      "execution_count": null,
      "outputs": []
    },
    {
      "cell_type": "code",
      "metadata": {
        "id": "zvpEiHDYLrWF",
        "colab": {
          "base_uri": "https://localhost:8080/",
          "height": 338
        },
        "outputId": "afd90024-cb10-4461-d419-30ef068f5350"
      },
      "source": [
        "df_income.head()"
      ],
      "execution_count": null,
      "outputs": [
        {
          "output_type": "execute_result",
          "data": {
            "text/html": [
              "<div>\n",
              "<style scoped>\n",
              "    .dataframe tbody tr th:only-of-type {\n",
              "        vertical-align: middle;\n",
              "    }\n",
              "\n",
              "    .dataframe tbody tr th {\n",
              "        vertical-align: top;\n",
              "    }\n",
              "\n",
              "    .dataframe thead th {\n",
              "        text-align: right;\n",
              "    }\n",
              "</style>\n",
              "<table border=\"1\" class=\"dataframe\">\n",
              "  <thead>\n",
              "    <tr style=\"text-align: right;\">\n",
              "      <th></th>\n",
              "      <th>fips</th>\n",
              "      <th>state</th>\n",
              "      <th>name</th>\n",
              "      <th>pop2000</th>\n",
              "      <th>pop2010</th>\n",
              "      <th>pop2011</th>\n",
              "      <th>pop2012</th>\n",
              "      <th>pop2013</th>\n",
              "      <th>pop2014</th>\n",
              "      <th>pop2015</th>\n",
              "      <th>pop2016</th>\n",
              "      <th>pop2017</th>\n",
              "      <th>age_under_5_2010</th>\n",
              "      <th>age_under_5_2017</th>\n",
              "      <th>age_under_18_2010</th>\n",
              "      <th>age_over_65_2010</th>\n",
              "      <th>age_over_65_2017</th>\n",
              "      <th>median_age_2017</th>\n",
              "      <th>female_2010</th>\n",
              "      <th>white_2010</th>\n",
              "      <th>black_2010</th>\n",
              "      <th>black_2017</th>\n",
              "      <th>native_2010</th>\n",
              "      <th>native_2017</th>\n",
              "      <th>asian_2010</th>\n",
              "      <th>asian_2017</th>\n",
              "      <th>pac_isl_2010</th>\n",
              "      <th>pac_isl_2017</th>\n",
              "      <th>other_single_race_2017</th>\n",
              "      <th>two_plus_races_2010</th>\n",
              "      <th>two_plus_races_2017</th>\n",
              "      <th>hispanic_2010</th>\n",
              "      <th>hispanic_2017</th>\n",
              "      <th>white_not_hispanic_2010</th>\n",
              "      <th>white_not_hispanic_2017</th>\n",
              "      <th>speak_english_only_2017</th>\n",
              "      <th>no_move_in_one_plus_year_2010</th>\n",
              "      <th>foreign_born_2010</th>\n",
              "      <th>foreign_spoken_at_home_2010</th>\n",
              "      <th>women_16_to_50_birth_rate_2017</th>\n",
              "      <th>...</th>\n",
              "      <th>bachelors_2019</th>\n",
              "      <th>black_2019</th>\n",
              "      <th>hispanic_2019</th>\n",
              "      <th>household_has_broadband_2019</th>\n",
              "      <th>household_has_computer_2019</th>\n",
              "      <th>household_has_smartphone_2019</th>\n",
              "      <th>households_2019</th>\n",
              "      <th>households_speak_asian_or_pac_isl_2019</th>\n",
              "      <th>households_speak_limited_english_2019</th>\n",
              "      <th>households_speak_other_2019</th>\n",
              "      <th>households_speak_other_indo_euro_lang_2019</th>\n",
              "      <th>households_speak_spanish_2019</th>\n",
              "      <th>housing_mobile_homes_2019</th>\n",
              "      <th>housing_one_unit_structures_2019</th>\n",
              "      <th>housing_two_unit_structures_2019</th>\n",
              "      <th>hs_grad_2019</th>\n",
              "      <th>mean_household_income_2019</th>\n",
              "      <th>mean_work_travel_2019</th>\n",
              "      <th>median_age_2019</th>\n",
              "      <th>median_household_income_2019</th>\n",
              "      <th>median_individual_income_2019</th>\n",
              "      <th>median_individual_income_age_25plus_2019</th>\n",
              "      <th>native_2019</th>\n",
              "      <th>other_single_race_2019</th>\n",
              "      <th>pac_isl_2019</th>\n",
              "      <th>per_capita_income_2019</th>\n",
              "      <th>persons_per_household_2019</th>\n",
              "      <th>pop_2019</th>\n",
              "      <th>poverty_2019</th>\n",
              "      <th>poverty_65_and_over_2019</th>\n",
              "      <th>poverty_under_18_2019</th>\n",
              "      <th>two_plus_races_2019</th>\n",
              "      <th>unemployment_rate_2019</th>\n",
              "      <th>uninsured_2019</th>\n",
              "      <th>uninsured_65_and_older_2019</th>\n",
              "      <th>uninsured_under_19_2019</th>\n",
              "      <th>uninsured_under_6_2019</th>\n",
              "      <th>veterans_2019</th>\n",
              "      <th>white_2019</th>\n",
              "      <th>white_not_hispanic_2019</th>\n",
              "    </tr>\n",
              "  </thead>\n",
              "  <tbody>\n",
              "    <tr>\n",
              "      <th>0</th>\n",
              "      <td>1001</td>\n",
              "      <td>Alabama</td>\n",
              "      <td>Autauga County</td>\n",
              "      <td>43671.0</td>\n",
              "      <td>54571</td>\n",
              "      <td>55199.0</td>\n",
              "      <td>54927.0</td>\n",
              "      <td>54695.0</td>\n",
              "      <td>54864.0</td>\n",
              "      <td>54838.0</td>\n",
              "      <td>55278.0</td>\n",
              "      <td>55504.0</td>\n",
              "      <td>6.6</td>\n",
              "      <td>5.7</td>\n",
              "      <td>26.8</td>\n",
              "      <td>12.0</td>\n",
              "      <td>14.3</td>\n",
              "      <td>37.8</td>\n",
              "      <td>51.3</td>\n",
              "      <td>78.5</td>\n",
              "      <td>17.7</td>\n",
              "      <td>9.55</td>\n",
              "      <td>0.4</td>\n",
              "      <td>0.15</td>\n",
              "      <td>0.9</td>\n",
              "      <td>0.47</td>\n",
              "      <td>NaN</td>\n",
              "      <td>0.04</td>\n",
              "      <td>0.65</td>\n",
              "      <td>1.6</td>\n",
              "      <td>0.84</td>\n",
              "      <td>2.4</td>\n",
              "      <td>2.67</td>\n",
              "      <td>77.2</td>\n",
              "      <td>75.42</td>\n",
              "      <td>96.2</td>\n",
              "      <td>86.3</td>\n",
              "      <td>2.0</td>\n",
              "      <td>3.7</td>\n",
              "      <td>7.4</td>\n",
              "      <td>...</td>\n",
              "      <td>26.6</td>\n",
              "      <td>19.0</td>\n",
              "      <td>2.8</td>\n",
              "      <td>80.6</td>\n",
              "      <td>73.0</td>\n",
              "      <td>78.4</td>\n",
              "      <td>21397</td>\n",
              "      <td>1.8</td>\n",
              "      <td>0.7</td>\n",
              "      <td>0.2</td>\n",
              "      <td>0.3</td>\n",
              "      <td>2.9</td>\n",
              "      <td>26.7</td>\n",
              "      <td>17.3</td>\n",
              "      <td>73.3</td>\n",
              "      <td>88.5</td>\n",
              "      <td>75326</td>\n",
              "      <td>24.4</td>\n",
              "      <td>38.2</td>\n",
              "      <td>58731</td>\n",
              "      <td>29725</td>\n",
              "      <td>40778</td>\n",
              "      <td>0.3</td>\n",
              "      <td>0.7</td>\n",
              "      <td>0.0</td>\n",
              "      <td>29819</td>\n",
              "      <td>2.56</td>\n",
              "      <td>55380</td>\n",
              "      <td>15.2</td>\n",
              "      <td>8.7</td>\n",
              "      <td>23.2</td>\n",
              "      <td>2.2</td>\n",
              "      <td>3.5</td>\n",
              "      <td>7.1</td>\n",
              "      <td>0.0</td>\n",
              "      <td>1.7</td>\n",
              "      <td>1.7</td>\n",
              "      <td>12.6</td>\n",
              "      <td>76.8</td>\n",
              "      <td>74.6</td>\n",
              "    </tr>\n",
              "    <tr>\n",
              "      <th>1</th>\n",
              "      <td>1003</td>\n",
              "      <td>Alabama</td>\n",
              "      <td>Baldwin County</td>\n",
              "      <td>140415.0</td>\n",
              "      <td>182265</td>\n",
              "      <td>186534.0</td>\n",
              "      <td>190048.0</td>\n",
              "      <td>194736.0</td>\n",
              "      <td>199064.0</td>\n",
              "      <td>202863.0</td>\n",
              "      <td>207509.0</td>\n",
              "      <td>212628.0</td>\n",
              "      <td>6.1</td>\n",
              "      <td>5.7</td>\n",
              "      <td>23.0</td>\n",
              "      <td>16.8</td>\n",
              "      <td>19.0</td>\n",
              "      <td>42.6</td>\n",
              "      <td>51.1</td>\n",
              "      <td>85.7</td>\n",
              "      <td>9.4</td>\n",
              "      <td>4.77</td>\n",
              "      <td>0.7</td>\n",
              "      <td>0.41</td>\n",
              "      <td>0.7</td>\n",
              "      <td>0.35</td>\n",
              "      <td>NaN</td>\n",
              "      <td>0.00</td>\n",
              "      <td>0.39</td>\n",
              "      <td>1.5</td>\n",
              "      <td>0.82</td>\n",
              "      <td>4.4</td>\n",
              "      <td>4.44</td>\n",
              "      <td>83.5</td>\n",
              "      <td>83.08</td>\n",
              "      <td>94.5</td>\n",
              "      <td>83.0</td>\n",
              "      <td>3.6</td>\n",
              "      <td>5.5</td>\n",
              "      <td>5.1</td>\n",
              "      <td>...</td>\n",
              "      <td>31.9</td>\n",
              "      <td>9.3</td>\n",
              "      <td>4.6</td>\n",
              "      <td>81.8</td>\n",
              "      <td>76.3</td>\n",
              "      <td>81.7</td>\n",
              "      <td>80930</td>\n",
              "      <td>0.6</td>\n",
              "      <td>1.2</td>\n",
              "      <td>0.0</td>\n",
              "      <td>1.8</td>\n",
              "      <td>4.6</td>\n",
              "      <td>24.8</td>\n",
              "      <td>11.5</td>\n",
              "      <td>75.2</td>\n",
              "      <td>90.8</td>\n",
              "      <td>80986</td>\n",
              "      <td>NaN</td>\n",
              "      <td>43.0</td>\n",
              "      <td>58320</td>\n",
              "      <td>29802</td>\n",
              "      <td>37897</td>\n",
              "      <td>0.8</td>\n",
              "      <td>1.1</td>\n",
              "      <td>0.0</td>\n",
              "      <td>32626</td>\n",
              "      <td>2.59</td>\n",
              "      <td>212830</td>\n",
              "      <td>10.4</td>\n",
              "      <td>7.4</td>\n",
              "      <td>13.4</td>\n",
              "      <td>1.7</td>\n",
              "      <td>4.0</td>\n",
              "      <td>8.9</td>\n",
              "      <td>0.3</td>\n",
              "      <td>3.8</td>\n",
              "      <td>2.2</td>\n",
              "      <td>11.8</td>\n",
              "      <td>86.2</td>\n",
              "      <td>83.1</td>\n",
              "    </tr>\n",
              "    <tr>\n",
              "      <th>2</th>\n",
              "      <td>1005</td>\n",
              "      <td>Alabama</td>\n",
              "      <td>Barbour County</td>\n",
              "      <td>29038.0</td>\n",
              "      <td>27457</td>\n",
              "      <td>27351.0</td>\n",
              "      <td>27175.0</td>\n",
              "      <td>26947.0</td>\n",
              "      <td>26749.0</td>\n",
              "      <td>26264.0</td>\n",
              "      <td>25774.0</td>\n",
              "      <td>25270.0</td>\n",
              "      <td>6.2</td>\n",
              "      <td>5.5</td>\n",
              "      <td>21.9</td>\n",
              "      <td>14.2</td>\n",
              "      <td>17.4</td>\n",
              "      <td>39.7</td>\n",
              "      <td>46.9</td>\n",
              "      <td>48.0</td>\n",
              "      <td>46.9</td>\n",
              "      <td>24.02</td>\n",
              "      <td>0.4</td>\n",
              "      <td>0.10</td>\n",
              "      <td>0.4</td>\n",
              "      <td>0.31</td>\n",
              "      <td>NaN</td>\n",
              "      <td>0.00</td>\n",
              "      <td>1.87</td>\n",
              "      <td>0.9</td>\n",
              "      <td>0.41</td>\n",
              "      <td>5.1</td>\n",
              "      <td>4.21</td>\n",
              "      <td>46.8</td>\n",
              "      <td>45.74</td>\n",
              "      <td>94.3</td>\n",
              "      <td>83.0</td>\n",
              "      <td>2.8</td>\n",
              "      <td>4.7</td>\n",
              "      <td>7.2</td>\n",
              "      <td>...</td>\n",
              "      <td>11.6</td>\n",
              "      <td>47.6</td>\n",
              "      <td>4.4</td>\n",
              "      <td>60.5</td>\n",
              "      <td>51.9</td>\n",
              "      <td>64.2</td>\n",
              "      <td>9345</td>\n",
              "      <td>0.6</td>\n",
              "      <td>1.6</td>\n",
              "      <td>0.0</td>\n",
              "      <td>1.1</td>\n",
              "      <td>5.2</td>\n",
              "      <td>39.1</td>\n",
              "      <td>26.1</td>\n",
              "      <td>60.9</td>\n",
              "      <td>73.2</td>\n",
              "      <td>47068</td>\n",
              "      <td>NaN</td>\n",
              "      <td>40.4</td>\n",
              "      <td>32525</td>\n",
              "      <td>17963</td>\n",
              "      <td>27434</td>\n",
              "      <td>0.3</td>\n",
              "      <td>3.6</td>\n",
              "      <td>0.0</td>\n",
              "      <td>18473</td>\n",
              "      <td>2.41</td>\n",
              "      <td>25361</td>\n",
              "      <td>30.7</td>\n",
              "      <td>16.8</td>\n",
              "      <td>50.1</td>\n",
              "      <td>1.2</td>\n",
              "      <td>9.4</td>\n",
              "      <td>11.3</td>\n",
              "      <td>0.3</td>\n",
              "      <td>3.3</td>\n",
              "      <td>3.4</td>\n",
              "      <td>6.6</td>\n",
              "      <td>46.8</td>\n",
              "      <td>45.8</td>\n",
              "    </tr>\n",
              "    <tr>\n",
              "      <th>3</th>\n",
              "      <td>1007</td>\n",
              "      <td>Alabama</td>\n",
              "      <td>Bibb County</td>\n",
              "      <td>20826.0</td>\n",
              "      <td>22915</td>\n",
              "      <td>22745.0</td>\n",
              "      <td>22658.0</td>\n",
              "      <td>22503.0</td>\n",
              "      <td>22533.0</td>\n",
              "      <td>22561.0</td>\n",
              "      <td>22633.0</td>\n",
              "      <td>22668.0</td>\n",
              "      <td>6.0</td>\n",
              "      <td>5.7</td>\n",
              "      <td>22.7</td>\n",
              "      <td>12.7</td>\n",
              "      <td>15.1</td>\n",
              "      <td>39.8</td>\n",
              "      <td>46.3</td>\n",
              "      <td>75.8</td>\n",
              "      <td>22.0</td>\n",
              "      <td>11.03</td>\n",
              "      <td>0.3</td>\n",
              "      <td>0.18</td>\n",
              "      <td>0.1</td>\n",
              "      <td>0.00</td>\n",
              "      <td>NaN</td>\n",
              "      <td>0.00</td>\n",
              "      <td>0.02</td>\n",
              "      <td>0.9</td>\n",
              "      <td>0.42</td>\n",
              "      <td>1.8</td>\n",
              "      <td>2.35</td>\n",
              "      <td>75.0</td>\n",
              "      <td>74.62</td>\n",
              "      <td>97.8</td>\n",
              "      <td>90.5</td>\n",
              "      <td>0.7</td>\n",
              "      <td>1.5</td>\n",
              "      <td>7.6</td>\n",
              "      <td>...</td>\n",
              "      <td>10.4</td>\n",
              "      <td>22.3</td>\n",
              "      <td>2.6</td>\n",
              "      <td>69.2</td>\n",
              "      <td>54.7</td>\n",
              "      <td>66.6</td>\n",
              "      <td>6891</td>\n",
              "      <td>0.0</td>\n",
              "      <td>0.6</td>\n",
              "      <td>0.0</td>\n",
              "      <td>0.5</td>\n",
              "      <td>1.9</td>\n",
              "      <td>25.6</td>\n",
              "      <td>29.7</td>\n",
              "      <td>74.4</td>\n",
              "      <td>79.1</td>\n",
              "      <td>60182</td>\n",
              "      <td>NaN</td>\n",
              "      <td>40.9</td>\n",
              "      <td>47542</td>\n",
              "      <td>21958</td>\n",
              "      <td>28789</td>\n",
              "      <td>0.1</td>\n",
              "      <td>0.0</td>\n",
              "      <td>0.0</td>\n",
              "      <td>20778</td>\n",
              "      <td>2.99</td>\n",
              "      <td>22493</td>\n",
              "      <td>NaN</td>\n",
              "      <td>NaN</td>\n",
              "      <td>NaN</td>\n",
              "      <td>0.6</td>\n",
              "      <td>7.0</td>\n",
              "      <td>10.7</td>\n",
              "      <td>0.0</td>\n",
              "      <td>2.0</td>\n",
              "      <td>4.5</td>\n",
              "      <td>8.0</td>\n",
              "      <td>76.8</td>\n",
              "      <td>74.5</td>\n",
              "    </tr>\n",
              "    <tr>\n",
              "      <th>4</th>\n",
              "      <td>1009</td>\n",
              "      <td>Alabama</td>\n",
              "      <td>Blount County</td>\n",
              "      <td>51024.0</td>\n",
              "      <td>57322</td>\n",
              "      <td>57562.0</td>\n",
              "      <td>57595.0</td>\n",
              "      <td>57623.0</td>\n",
              "      <td>57546.0</td>\n",
              "      <td>57590.0</td>\n",
              "      <td>57562.0</td>\n",
              "      <td>58013.0</td>\n",
              "      <td>6.3</td>\n",
              "      <td>6.1</td>\n",
              "      <td>24.6</td>\n",
              "      <td>14.7</td>\n",
              "      <td>17.4</td>\n",
              "      <td>40.9</td>\n",
              "      <td>50.5</td>\n",
              "      <td>92.6</td>\n",
              "      <td>1.3</td>\n",
              "      <td>0.79</td>\n",
              "      <td>0.5</td>\n",
              "      <td>0.18</td>\n",
              "      <td>0.2</td>\n",
              "      <td>0.07</td>\n",
              "      <td>NaN</td>\n",
              "      <td>0.00</td>\n",
              "      <td>0.37</td>\n",
              "      <td>1.2</td>\n",
              "      <td>0.85</td>\n",
              "      <td>8.1</td>\n",
              "      <td>9.01</td>\n",
              "      <td>88.9</td>\n",
              "      <td>87.37</td>\n",
              "      <td>92.3</td>\n",
              "      <td>87.2</td>\n",
              "      <td>4.7</td>\n",
              "      <td>7.2</td>\n",
              "      <td>5.6</td>\n",
              "      <td>...</td>\n",
              "      <td>13.1</td>\n",
              "      <td>1.6</td>\n",
              "      <td>9.3</td>\n",
              "      <td>73.0</td>\n",
              "      <td>63.5</td>\n",
              "      <td>70.1</td>\n",
              "      <td>20847</td>\n",
              "      <td>0.1</td>\n",
              "      <td>1.8</td>\n",
              "      <td>0.2</td>\n",
              "      <td>0.9</td>\n",
              "      <td>6.6</td>\n",
              "      <td>21.2</td>\n",
              "      <td>24.0</td>\n",
              "      <td>78.8</td>\n",
              "      <td>80.5</td>\n",
              "      <td>65639</td>\n",
              "      <td>NaN</td>\n",
              "      <td>40.7</td>\n",
              "      <td>49358</td>\n",
              "      <td>26976</td>\n",
              "      <td>39004</td>\n",
              "      <td>0.1</td>\n",
              "      <td>0.9</td>\n",
              "      <td>0.0</td>\n",
              "      <td>24747</td>\n",
              "      <td>2.74</td>\n",
              "      <td>57681</td>\n",
              "      <td>13.6</td>\n",
              "      <td>10.9</td>\n",
              "      <td>18.4</td>\n",
              "      <td>1.6</td>\n",
              "      <td>3.1</td>\n",
              "      <td>10.8</td>\n",
              "      <td>0.2</td>\n",
              "      <td>5.9</td>\n",
              "      <td>6.1</td>\n",
              "      <td>7.7</td>\n",
              "      <td>95.5</td>\n",
              "      <td>86.9</td>\n",
              "    </tr>\n",
              "  </tbody>\n",
              "</table>\n",
              "<p>5 rows × 188 columns</p>\n",
              "</div>"
            ],
            "text/plain": [
              "   fips    state  ... white_2019  white_not_hispanic_2019\n",
              "0  1001  Alabama  ...       76.8                     74.6\n",
              "1  1003  Alabama  ...       86.2                     83.1\n",
              "2  1005  Alabama  ...       46.8                     45.8\n",
              "3  1007  Alabama  ...       76.8                     74.5\n",
              "4  1009  Alabama  ...       95.5                     86.9\n",
              "\n",
              "[5 rows x 188 columns]"
            ]
          },
          "metadata": {
            "tags": []
          },
          "execution_count": 10
        }
      ]
    },
    {
      "cell_type": "code",
      "metadata": {
        "id": "Ly54nY_eGFb1",
        "colab": {
          "base_uri": "https://localhost:8080/",
          "height": 224
        },
        "outputId": "947cae9e-57d8-40bb-b27e-631bd9f19c16"
      },
      "source": [
        "df_income[\"name\"] = df_income[\"name\"].str.replace(\" County\", \"\")\n",
        "df_income = df_income.rename(columns={\"name\": \"county\"})\n",
        "keep = df_income.columns[1]\n",
        "df_income = df_income[[\"fips\", \"state\", \"county\", \"white_2019\", \"black_2019\", \"native_2019\", \"asian_2019\", \n",
        "        \"pac_isl_2019\", \"other_single_race_2019\", \"two_plus_races_2019\", \"hispanic_2019\", \"white_not_hispanic_2019\", \n",
        "        \"median_age_2019\", \"hs_grad_2019\", \"bachelors_2019\", \"mean_household_income_2019\", \"median_household_income_2019\", \n",
        "        \"median_individual_income_2019\", \"per_capita_income_2019\", \"persons_per_household_2019\", \"poverty_2019\", \n",
        "        \"unemployment_rate_2019\", \"uninsured_2019\", \"household_has_computer_2019\", \"household_has_broadband_2019\", \n",
        "        \"household_has_smartphone_2019\", \"households_2019\", \"pop_2019\"]]\n",
        "df_income.head()"
      ],
      "execution_count": null,
      "outputs": [
        {
          "output_type": "execute_result",
          "data": {
            "text/html": [
              "<div>\n",
              "<style scoped>\n",
              "    .dataframe tbody tr th:only-of-type {\n",
              "        vertical-align: middle;\n",
              "    }\n",
              "\n",
              "    .dataframe tbody tr th {\n",
              "        vertical-align: top;\n",
              "    }\n",
              "\n",
              "    .dataframe thead th {\n",
              "        text-align: right;\n",
              "    }\n",
              "</style>\n",
              "<table border=\"1\" class=\"dataframe\">\n",
              "  <thead>\n",
              "    <tr style=\"text-align: right;\">\n",
              "      <th></th>\n",
              "      <th>fips</th>\n",
              "      <th>state</th>\n",
              "      <th>county</th>\n",
              "      <th>white_2019</th>\n",
              "      <th>black_2019</th>\n",
              "      <th>native_2019</th>\n",
              "      <th>asian_2019</th>\n",
              "      <th>pac_isl_2019</th>\n",
              "      <th>other_single_race_2019</th>\n",
              "      <th>two_plus_races_2019</th>\n",
              "      <th>hispanic_2019</th>\n",
              "      <th>white_not_hispanic_2019</th>\n",
              "      <th>median_age_2019</th>\n",
              "      <th>hs_grad_2019</th>\n",
              "      <th>bachelors_2019</th>\n",
              "      <th>mean_household_income_2019</th>\n",
              "      <th>median_household_income_2019</th>\n",
              "      <th>median_individual_income_2019</th>\n",
              "      <th>per_capita_income_2019</th>\n",
              "      <th>persons_per_household_2019</th>\n",
              "      <th>poverty_2019</th>\n",
              "      <th>unemployment_rate_2019</th>\n",
              "      <th>uninsured_2019</th>\n",
              "      <th>household_has_computer_2019</th>\n",
              "      <th>household_has_broadband_2019</th>\n",
              "      <th>household_has_smartphone_2019</th>\n",
              "      <th>households_2019</th>\n",
              "      <th>pop_2019</th>\n",
              "    </tr>\n",
              "  </thead>\n",
              "  <tbody>\n",
              "    <tr>\n",
              "      <th>0</th>\n",
              "      <td>1001</td>\n",
              "      <td>Alabama</td>\n",
              "      <td>Autauga</td>\n",
              "      <td>76.8</td>\n",
              "      <td>19.0</td>\n",
              "      <td>0.3</td>\n",
              "      <td>1.0</td>\n",
              "      <td>0.0</td>\n",
              "      <td>0.7</td>\n",
              "      <td>2.2</td>\n",
              "      <td>2.8</td>\n",
              "      <td>74.6</td>\n",
              "      <td>38.2</td>\n",
              "      <td>88.5</td>\n",
              "      <td>26.6</td>\n",
              "      <td>75326</td>\n",
              "      <td>58731</td>\n",
              "      <td>29725</td>\n",
              "      <td>29819</td>\n",
              "      <td>2.56</td>\n",
              "      <td>15.2</td>\n",
              "      <td>3.5</td>\n",
              "      <td>7.1</td>\n",
              "      <td>73.0</td>\n",
              "      <td>80.6</td>\n",
              "      <td>78.4</td>\n",
              "      <td>21397</td>\n",
              "      <td>55380</td>\n",
              "    </tr>\n",
              "    <tr>\n",
              "      <th>1</th>\n",
              "      <td>1003</td>\n",
              "      <td>Alabama</td>\n",
              "      <td>Baldwin</td>\n",
              "      <td>86.2</td>\n",
              "      <td>9.3</td>\n",
              "      <td>0.8</td>\n",
              "      <td>0.9</td>\n",
              "      <td>0.0</td>\n",
              "      <td>1.1</td>\n",
              "      <td>1.7</td>\n",
              "      <td>4.6</td>\n",
              "      <td>83.1</td>\n",
              "      <td>43.0</td>\n",
              "      <td>90.8</td>\n",
              "      <td>31.9</td>\n",
              "      <td>80986</td>\n",
              "      <td>58320</td>\n",
              "      <td>29802</td>\n",
              "      <td>32626</td>\n",
              "      <td>2.59</td>\n",
              "      <td>10.4</td>\n",
              "      <td>4.0</td>\n",
              "      <td>8.9</td>\n",
              "      <td>76.3</td>\n",
              "      <td>81.8</td>\n",
              "      <td>81.7</td>\n",
              "      <td>80930</td>\n",
              "      <td>212830</td>\n",
              "    </tr>\n",
              "    <tr>\n",
              "      <th>2</th>\n",
              "      <td>1005</td>\n",
              "      <td>Alabama</td>\n",
              "      <td>Barbour</td>\n",
              "      <td>46.8</td>\n",
              "      <td>47.6</td>\n",
              "      <td>0.3</td>\n",
              "      <td>0.5</td>\n",
              "      <td>0.0</td>\n",
              "      <td>3.6</td>\n",
              "      <td>1.2</td>\n",
              "      <td>4.4</td>\n",
              "      <td>45.8</td>\n",
              "      <td>40.4</td>\n",
              "      <td>73.2</td>\n",
              "      <td>11.6</td>\n",
              "      <td>47068</td>\n",
              "      <td>32525</td>\n",
              "      <td>17963</td>\n",
              "      <td>18473</td>\n",
              "      <td>2.41</td>\n",
              "      <td>30.7</td>\n",
              "      <td>9.4</td>\n",
              "      <td>11.3</td>\n",
              "      <td>51.9</td>\n",
              "      <td>60.5</td>\n",
              "      <td>64.2</td>\n",
              "      <td>9345</td>\n",
              "      <td>25361</td>\n",
              "    </tr>\n",
              "    <tr>\n",
              "      <th>3</th>\n",
              "      <td>1007</td>\n",
              "      <td>Alabama</td>\n",
              "      <td>Bibb</td>\n",
              "      <td>76.8</td>\n",
              "      <td>22.3</td>\n",
              "      <td>0.1</td>\n",
              "      <td>0.1</td>\n",
              "      <td>0.0</td>\n",
              "      <td>0.0</td>\n",
              "      <td>0.6</td>\n",
              "      <td>2.6</td>\n",
              "      <td>74.5</td>\n",
              "      <td>40.9</td>\n",
              "      <td>79.1</td>\n",
              "      <td>10.4</td>\n",
              "      <td>60182</td>\n",
              "      <td>47542</td>\n",
              "      <td>21958</td>\n",
              "      <td>20778</td>\n",
              "      <td>2.99</td>\n",
              "      <td>NaN</td>\n",
              "      <td>7.0</td>\n",
              "      <td>10.7</td>\n",
              "      <td>54.7</td>\n",
              "      <td>69.2</td>\n",
              "      <td>66.6</td>\n",
              "      <td>6891</td>\n",
              "      <td>22493</td>\n",
              "    </tr>\n",
              "    <tr>\n",
              "      <th>4</th>\n",
              "      <td>1009</td>\n",
              "      <td>Alabama</td>\n",
              "      <td>Blount</td>\n",
              "      <td>95.5</td>\n",
              "      <td>1.6</td>\n",
              "      <td>0.1</td>\n",
              "      <td>0.4</td>\n",
              "      <td>0.0</td>\n",
              "      <td>0.9</td>\n",
              "      <td>1.6</td>\n",
              "      <td>9.3</td>\n",
              "      <td>86.9</td>\n",
              "      <td>40.7</td>\n",
              "      <td>80.5</td>\n",
              "      <td>13.1</td>\n",
              "      <td>65639</td>\n",
              "      <td>49358</td>\n",
              "      <td>26976</td>\n",
              "      <td>24747</td>\n",
              "      <td>2.74</td>\n",
              "      <td>13.6</td>\n",
              "      <td>3.1</td>\n",
              "      <td>10.8</td>\n",
              "      <td>63.5</td>\n",
              "      <td>73.0</td>\n",
              "      <td>70.1</td>\n",
              "      <td>20847</td>\n",
              "      <td>57681</td>\n",
              "    </tr>\n",
              "  </tbody>\n",
              "</table>\n",
              "</div>"
            ],
            "text/plain": [
              "   fips    state  ... households_2019  pop_2019\n",
              "0  1001  Alabama  ...           21397     55380\n",
              "1  1003  Alabama  ...           80930    212830\n",
              "2  1005  Alabama  ...            9345     25361\n",
              "3  1007  Alabama  ...            6891     22493\n",
              "4  1009  Alabama  ...           20847     57681\n",
              "\n",
              "[5 rows x 28 columns]"
            ]
          },
          "metadata": {
            "tags": []
          },
          "execution_count": 11
        }
      ]
    },
    {
      "cell_type": "code",
      "metadata": {
        "id": "djcIOwnjYD2N",
        "colab": {
          "base_uri": "https://localhost:8080/",
          "height": 204
        },
        "outputId": "8e31f77f-90da-4685-c41e-91761597acf7"
      },
      "source": [
        "df_covid = df_covid[df_covid.date == \"2021-07-27\"]\n",
        "df_covid = df_covid.drop(columns = [\"date\", \"fips\"])\n",
        "df_covid.head()"
      ],
      "execution_count": null,
      "outputs": [
        {
          "output_type": "execute_result",
          "data": {
            "text/html": [
              "<div>\n",
              "<style scoped>\n",
              "    .dataframe tbody tr th:only-of-type {\n",
              "        vertical-align: middle;\n",
              "    }\n",
              "\n",
              "    .dataframe tbody tr th {\n",
              "        vertical-align: top;\n",
              "    }\n",
              "\n",
              "    .dataframe thead th {\n",
              "        text-align: right;\n",
              "    }\n",
              "</style>\n",
              "<table border=\"1\" class=\"dataframe\">\n",
              "  <thead>\n",
              "    <tr style=\"text-align: right;\">\n",
              "      <th></th>\n",
              "      <th>county</th>\n",
              "      <th>state</th>\n",
              "      <th>cases</th>\n",
              "      <th>deaths</th>\n",
              "      <th>confirmed_cases</th>\n",
              "      <th>confirmed_deaths</th>\n",
              "      <th>probable_cases</th>\n",
              "      <th>probable_deaths</th>\n",
              "    </tr>\n",
              "  </thead>\n",
              "  <tbody>\n",
              "    <tr>\n",
              "      <th>0</th>\n",
              "      <td>Autauga</td>\n",
              "      <td>Alabama</td>\n",
              "      <td>7435</td>\n",
              "      <td>113.0</td>\n",
              "      <td>6229.0</td>\n",
              "      <td>101.0</td>\n",
              "      <td>1206.0</td>\n",
              "      <td>12.0</td>\n",
              "    </tr>\n",
              "    <tr>\n",
              "      <th>1</th>\n",
              "      <td>Baldwin</td>\n",
              "      <td>Alabama</td>\n",
              "      <td>23922</td>\n",
              "      <td>325.0</td>\n",
              "      <td>16839.0</td>\n",
              "      <td>245.0</td>\n",
              "      <td>7083.0</td>\n",
              "      <td>80.0</td>\n",
              "    </tr>\n",
              "    <tr>\n",
              "      <th>2</th>\n",
              "      <td>Barbour</td>\n",
              "      <td>Alabama</td>\n",
              "      <td>2437</td>\n",
              "      <td>61.0</td>\n",
              "      <td>1364.0</td>\n",
              "      <td>43.0</td>\n",
              "      <td>1073.0</td>\n",
              "      <td>18.0</td>\n",
              "    </tr>\n",
              "    <tr>\n",
              "      <th>3</th>\n",
              "      <td>Bibb</td>\n",
              "      <td>Alabama</td>\n",
              "      <td>2814</td>\n",
              "      <td>65.0</td>\n",
              "      <td>2264.0</td>\n",
              "      <td>41.0</td>\n",
              "      <td>550.0</td>\n",
              "      <td>24.0</td>\n",
              "    </tr>\n",
              "    <tr>\n",
              "      <th>4</th>\n",
              "      <td>Blount</td>\n",
              "      <td>Alabama</td>\n",
              "      <td>7195</td>\n",
              "      <td>139.0</td>\n",
              "      <td>5495.0</td>\n",
              "      <td>118.0</td>\n",
              "      <td>1700.0</td>\n",
              "      <td>21.0</td>\n",
              "    </tr>\n",
              "  </tbody>\n",
              "</table>\n",
              "</div>"
            ],
            "text/plain": [
              "    county    state  cases  ...  confirmed_deaths  probable_cases  probable_deaths\n",
              "0  Autauga  Alabama   7435  ...             101.0          1206.0             12.0\n",
              "1  Baldwin  Alabama  23922  ...             245.0          7083.0             80.0\n",
              "2  Barbour  Alabama   2437  ...              43.0          1073.0             18.0\n",
              "3     Bibb  Alabama   2814  ...              41.0           550.0             24.0\n",
              "4   Blount  Alabama   7195  ...             118.0          1700.0             21.0\n",
              "\n",
              "[5 rows x 8 columns]"
            ]
          },
          "metadata": {
            "tags": []
          },
          "execution_count": 12
        }
      ]
    },
    {
      "cell_type": "code",
      "metadata": {
        "id": "0M2pVB5xeOo7",
        "colab": {
          "base_uri": "https://localhost:8080/",
          "height": 204
        },
        "outputId": "e86dc59b-c55f-4d67-caaa-117eaab3b9b5"
      },
      "source": [
        "df_race = df_race[df_race.AGEGRP == 0]\n",
        "df_race = df_race[df_race.YEAR == 12]\n",
        "df_race[\"CTYNAME\"] = df_race[\"CTYNAME\"].str.replace(\" County\", \"\")\n",
        "df_race = df_race.drop(columns = [\"COUNTY\", \"AGEGRP\", \"SUMLEV\", \"YEAR\", \"STATE\"])\n",
        "df_race = df_race.rename(columns={\"CTYNAME\": \"county\"})\n",
        "df_race = df_race.rename(columns={\"STNAME\": \"state\"})\n",
        "df_race = df_race[[\"state\", \"county\", \"TOT_MALE\", \"TOT_FEMALE\", \"TOT_POP\"]]\n",
        "df_race.head()"
      ],
      "execution_count": null,
      "outputs": [
        {
          "output_type": "execute_result",
          "data": {
            "text/html": [
              "<div>\n",
              "<style scoped>\n",
              "    .dataframe tbody tr th:only-of-type {\n",
              "        vertical-align: middle;\n",
              "    }\n",
              "\n",
              "    .dataframe tbody tr th {\n",
              "        vertical-align: top;\n",
              "    }\n",
              "\n",
              "    .dataframe thead th {\n",
              "        text-align: right;\n",
              "    }\n",
              "</style>\n",
              "<table border=\"1\" class=\"dataframe\">\n",
              "  <thead>\n",
              "    <tr style=\"text-align: right;\">\n",
              "      <th></th>\n",
              "      <th>state</th>\n",
              "      <th>county</th>\n",
              "      <th>TOT_MALE</th>\n",
              "      <th>TOT_FEMALE</th>\n",
              "      <th>TOT_POP</th>\n",
              "    </tr>\n",
              "  </thead>\n",
              "  <tbody>\n",
              "    <tr>\n",
              "      <th>209</th>\n",
              "      <td>Alabama</td>\n",
              "      <td>Autauga</td>\n",
              "      <td>27092</td>\n",
              "      <td>28777</td>\n",
              "      <td>55869</td>\n",
              "    </tr>\n",
              "    <tr>\n",
              "      <th>437</th>\n",
              "      <td>Alabama</td>\n",
              "      <td>Baldwin</td>\n",
              "      <td>108247</td>\n",
              "      <td>114987</td>\n",
              "      <td>223234</td>\n",
              "    </tr>\n",
              "    <tr>\n",
              "      <th>665</th>\n",
              "      <td>Alabama</td>\n",
              "      <td>Barbour</td>\n",
              "      <td>13064</td>\n",
              "      <td>11622</td>\n",
              "      <td>24686</td>\n",
              "    </tr>\n",
              "    <tr>\n",
              "      <th>893</th>\n",
              "      <td>Alabama</td>\n",
              "      <td>Bibb</td>\n",
              "      <td>11929</td>\n",
              "      <td>10465</td>\n",
              "      <td>22394</td>\n",
              "    </tr>\n",
              "    <tr>\n",
              "      <th>1121</th>\n",
              "      <td>Alabama</td>\n",
              "      <td>Blount</td>\n",
              "      <td>28472</td>\n",
              "      <td>29354</td>\n",
              "      <td>57826</td>\n",
              "    </tr>\n",
              "  </tbody>\n",
              "</table>\n",
              "</div>"
            ],
            "text/plain": [
              "        state   county  TOT_MALE  TOT_FEMALE  TOT_POP\n",
              "209   Alabama  Autauga     27092       28777    55869\n",
              "437   Alabama  Baldwin    108247      114987   223234\n",
              "665   Alabama  Barbour     13064       11622    24686\n",
              "893   Alabama     Bibb     11929       10465    22394\n",
              "1121  Alabama   Blount     28472       29354    57826"
            ]
          },
          "metadata": {
            "tags": []
          },
          "execution_count": 13
        }
      ]
    },
    {
      "cell_type": "code",
      "metadata": {
        "colab": {
          "base_uri": "https://localhost:8080/",
          "height": 204
        },
        "id": "mC5bmwWUf4dt",
        "outputId": "b9ea1673-391f-49c3-9f9b-83ba6e1d0846"
      },
      "source": [
        "df_politic = df_politic[[\"per_point_diff\", \"county_fips\"]]\n",
        "df_politic = df_politic.rename(columns={\"county_fips\": \"fips\"})\n",
        "df_politic.head()"
      ],
      "execution_count": null,
      "outputs": [
        {
          "output_type": "execute_result",
          "data": {
            "text/html": [
              "<div>\n",
              "<style scoped>\n",
              "    .dataframe tbody tr th:only-of-type {\n",
              "        vertical-align: middle;\n",
              "    }\n",
              "\n",
              "    .dataframe tbody tr th {\n",
              "        vertical-align: top;\n",
              "    }\n",
              "\n",
              "    .dataframe thead th {\n",
              "        text-align: right;\n",
              "    }\n",
              "</style>\n",
              "<table border=\"1\" class=\"dataframe\">\n",
              "  <thead>\n",
              "    <tr style=\"text-align: right;\">\n",
              "      <th></th>\n",
              "      <th>per_point_diff</th>\n",
              "      <th>fips</th>\n",
              "    </tr>\n",
              "  </thead>\n",
              "  <tbody>\n",
              "    <tr>\n",
              "      <th>0</th>\n",
              "      <td>0.444184</td>\n",
              "      <td>1001</td>\n",
              "    </tr>\n",
              "    <tr>\n",
              "      <th>1</th>\n",
              "      <td>0.537623</td>\n",
              "      <td>1003</td>\n",
              "    </tr>\n",
              "    <tr>\n",
              "      <th>2</th>\n",
              "      <td>0.076631</td>\n",
              "      <td>1005</td>\n",
              "    </tr>\n",
              "    <tr>\n",
              "      <th>3</th>\n",
              "      <td>0.577280</td>\n",
              "      <td>1007</td>\n",
              "    </tr>\n",
              "    <tr>\n",
              "      <th>4</th>\n",
              "      <td>0.800022</td>\n",
              "      <td>1009</td>\n",
              "    </tr>\n",
              "  </tbody>\n",
              "</table>\n",
              "</div>"
            ],
            "text/plain": [
              "   per_point_diff  fips\n",
              "0        0.444184  1001\n",
              "1        0.537623  1003\n",
              "2        0.076631  1005\n",
              "3        0.577280  1007\n",
              "4        0.800022  1009"
            ]
          },
          "metadata": {
            "tags": []
          },
          "execution_count": 14
        }
      ]
    },
    {
      "cell_type": "code",
      "metadata": {
        "colab": {
          "base_uri": "https://localhost:8080/",
          "height": 204
        },
        "id": "IxVJxFkWiua6",
        "outputId": "566f9f38-297e-4081-eedc-bad82ef73076"
      },
      "source": [
        "df_vaccine = df_vaccine[df_vaccine.Date == \"07/27/2021\"]\n",
        "df_vaccine = df_vaccine.rename(columns={\"FIPS\": \"fips\"})\n",
        "df_vaccine = df_vaccine[[\"fips\", \"Series_Complete_Pop_Pct\", \"Administered_Dose1_Pop_Pct\"]]\n",
        "df_vaccine = df_vaccine[df_vaccine.fips != \"UNK\"]\n",
        "try:\n",
        "  df_vaccine[\"fips\"] = df_vaccine[\"fips\"].astype(int)\n",
        "except ValueError:\n",
        "  a = 0\n",
        "df_vaccine.head()\n"
      ],
      "execution_count": null,
      "outputs": [
        {
          "output_type": "execute_result",
          "data": {
            "text/html": [
              "<div>\n",
              "<style scoped>\n",
              "    .dataframe tbody tr th:only-of-type {\n",
              "        vertical-align: middle;\n",
              "    }\n",
              "\n",
              "    .dataframe tbody tr th {\n",
              "        vertical-align: top;\n",
              "    }\n",
              "\n",
              "    .dataframe thead th {\n",
              "        text-align: right;\n",
              "    }\n",
              "</style>\n",
              "<table border=\"1\" class=\"dataframe\">\n",
              "  <thead>\n",
              "    <tr style=\"text-align: right;\">\n",
              "      <th></th>\n",
              "      <th>fips</th>\n",
              "      <th>Series_Complete_Pop_Pct</th>\n",
              "      <th>Administered_Dose1_Pop_Pct</th>\n",
              "    </tr>\n",
              "  </thead>\n",
              "  <tbody>\n",
              "    <tr>\n",
              "      <th>6564</th>\n",
              "      <td>37187</td>\n",
              "      <td>32.8</td>\n",
              "      <td>40.0</td>\n",
              "    </tr>\n",
              "    <tr>\n",
              "      <th>6565</th>\n",
              "      <td>53017</td>\n",
              "      <td>46.3</td>\n",
              "      <td>51.2</td>\n",
              "    </tr>\n",
              "    <tr>\n",
              "      <th>6566</th>\n",
              "      <td>37001</td>\n",
              "      <td>43.1</td>\n",
              "      <td>48.9</td>\n",
              "    </tr>\n",
              "    <tr>\n",
              "      <th>6567</th>\n",
              "      <td>47021</td>\n",
              "      <td>35.5</td>\n",
              "      <td>39.5</td>\n",
              "    </tr>\n",
              "    <tr>\n",
              "      <th>6568</th>\n",
              "      <td>26157</td>\n",
              "      <td>36.7</td>\n",
              "      <td>38.6</td>\n",
              "    </tr>\n",
              "  </tbody>\n",
              "</table>\n",
              "</div>"
            ],
            "text/plain": [
              "       fips  Series_Complete_Pop_Pct  Administered_Dose1_Pop_Pct\n",
              "6564  37187                     32.8                        40.0\n",
              "6565  53017                     46.3                        51.2\n",
              "6566  37001                     43.1                        48.9\n",
              "6567  47021                     35.5                        39.5\n",
              "6568  26157                     36.7                        38.6"
            ]
          },
          "metadata": {
            "tags": []
          },
          "execution_count": 15
        }
      ]
    },
    {
      "cell_type": "code",
      "metadata": {
        "id": "IxKFUPk0rndR"
      },
      "source": [
        "df_vaccine.to_csv(\"/content/drive/MyDrive/Coivd data that you want to use.csv\")"
      ],
      "execution_count": null,
      "outputs": []
    },
    {
      "cell_type": "code",
      "metadata": {
        "id": "paqpnssBi9i0",
        "colab": {
          "base_uri": "https://localhost:8080/",
          "height": 224
        },
        "outputId": "8fa6d982-3d26-462b-a67a-55d523f399d2"
      },
      "source": [
        "df_incomplete = df_covid.merge(df_income)\n",
        "df1 = df_incomplete.merge(df_race)\n",
        "df2 = df1.merge(df_vaccine)\n",
        "df = df2.merge(df_politic)\n",
        "df[\"cases_per_capita\"] = df.cases/df.pop_2019\n",
        "df[\"male_2019\"] = df.TOT_MALE / df.TOT_POP * 100\n",
        "df = df.drop(columns = [\"pop_2019\", \"TOT_MALE\", \"TOT_FEMALE\"])\n",
        "df.head()"
      ],
      "execution_count": null,
      "outputs": [
        {
          "output_type": "execute_result",
          "data": {
            "text/html": [
              "<div>\n",
              "<style scoped>\n",
              "    .dataframe tbody tr th:only-of-type {\n",
              "        vertical-align: middle;\n",
              "    }\n",
              "\n",
              "    .dataframe tbody tr th {\n",
              "        vertical-align: top;\n",
              "    }\n",
              "\n",
              "    .dataframe thead th {\n",
              "        text-align: right;\n",
              "    }\n",
              "</style>\n",
              "<table border=\"1\" class=\"dataframe\">\n",
              "  <thead>\n",
              "    <tr style=\"text-align: right;\">\n",
              "      <th></th>\n",
              "      <th>county</th>\n",
              "      <th>state</th>\n",
              "      <th>cases</th>\n",
              "      <th>deaths</th>\n",
              "      <th>confirmed_cases</th>\n",
              "      <th>confirmed_deaths</th>\n",
              "      <th>probable_cases</th>\n",
              "      <th>probable_deaths</th>\n",
              "      <th>fips</th>\n",
              "      <th>white_2019</th>\n",
              "      <th>black_2019</th>\n",
              "      <th>native_2019</th>\n",
              "      <th>asian_2019</th>\n",
              "      <th>pac_isl_2019</th>\n",
              "      <th>other_single_race_2019</th>\n",
              "      <th>two_plus_races_2019</th>\n",
              "      <th>hispanic_2019</th>\n",
              "      <th>white_not_hispanic_2019</th>\n",
              "      <th>median_age_2019</th>\n",
              "      <th>hs_grad_2019</th>\n",
              "      <th>bachelors_2019</th>\n",
              "      <th>mean_household_income_2019</th>\n",
              "      <th>median_household_income_2019</th>\n",
              "      <th>median_individual_income_2019</th>\n",
              "      <th>per_capita_income_2019</th>\n",
              "      <th>persons_per_household_2019</th>\n",
              "      <th>poverty_2019</th>\n",
              "      <th>unemployment_rate_2019</th>\n",
              "      <th>uninsured_2019</th>\n",
              "      <th>household_has_computer_2019</th>\n",
              "      <th>household_has_broadband_2019</th>\n",
              "      <th>household_has_smartphone_2019</th>\n",
              "      <th>households_2019</th>\n",
              "      <th>TOT_POP</th>\n",
              "      <th>Series_Complete_Pop_Pct</th>\n",
              "      <th>Administered_Dose1_Pop_Pct</th>\n",
              "      <th>per_point_diff</th>\n",
              "      <th>cases_per_capita</th>\n",
              "      <th>male_2019</th>\n",
              "    </tr>\n",
              "  </thead>\n",
              "  <tbody>\n",
              "    <tr>\n",
              "      <th>0</th>\n",
              "      <td>Autauga</td>\n",
              "      <td>Alabama</td>\n",
              "      <td>7435</td>\n",
              "      <td>113.0</td>\n",
              "      <td>6229.0</td>\n",
              "      <td>101.0</td>\n",
              "      <td>1206.0</td>\n",
              "      <td>12.0</td>\n",
              "      <td>1001</td>\n",
              "      <td>76.8</td>\n",
              "      <td>19.0</td>\n",
              "      <td>0.3</td>\n",
              "      <td>1.0</td>\n",
              "      <td>0.0</td>\n",
              "      <td>0.7</td>\n",
              "      <td>2.2</td>\n",
              "      <td>2.8</td>\n",
              "      <td>74.6</td>\n",
              "      <td>38.2</td>\n",
              "      <td>88.5</td>\n",
              "      <td>26.6</td>\n",
              "      <td>75326</td>\n",
              "      <td>58731</td>\n",
              "      <td>29725</td>\n",
              "      <td>29819</td>\n",
              "      <td>2.56</td>\n",
              "      <td>15.2</td>\n",
              "      <td>3.5</td>\n",
              "      <td>7.1</td>\n",
              "      <td>73.0</td>\n",
              "      <td>80.6</td>\n",
              "      <td>78.4</td>\n",
              "      <td>21397</td>\n",
              "      <td>55869</td>\n",
              "      <td>26.1</td>\n",
              "      <td>34.3</td>\n",
              "      <td>0.444184</td>\n",
              "      <td>0.134254</td>\n",
              "      <td>48.492008</td>\n",
              "    </tr>\n",
              "    <tr>\n",
              "      <th>1</th>\n",
              "      <td>Baldwin</td>\n",
              "      <td>Alabama</td>\n",
              "      <td>23922</td>\n",
              "      <td>325.0</td>\n",
              "      <td>16839.0</td>\n",
              "      <td>245.0</td>\n",
              "      <td>7083.0</td>\n",
              "      <td>80.0</td>\n",
              "      <td>1003</td>\n",
              "      <td>86.2</td>\n",
              "      <td>9.3</td>\n",
              "      <td>0.8</td>\n",
              "      <td>0.9</td>\n",
              "      <td>0.0</td>\n",
              "      <td>1.1</td>\n",
              "      <td>1.7</td>\n",
              "      <td>4.6</td>\n",
              "      <td>83.1</td>\n",
              "      <td>43.0</td>\n",
              "      <td>90.8</td>\n",
              "      <td>31.9</td>\n",
              "      <td>80986</td>\n",
              "      <td>58320</td>\n",
              "      <td>29802</td>\n",
              "      <td>32626</td>\n",
              "      <td>2.59</td>\n",
              "      <td>10.4</td>\n",
              "      <td>4.0</td>\n",
              "      <td>8.9</td>\n",
              "      <td>76.3</td>\n",
              "      <td>81.8</td>\n",
              "      <td>81.7</td>\n",
              "      <td>80930</td>\n",
              "      <td>223234</td>\n",
              "      <td>31.4</td>\n",
              "      <td>40.9</td>\n",
              "      <td>0.537623</td>\n",
              "      <td>0.112400</td>\n",
              "      <td>48.490373</td>\n",
              "    </tr>\n",
              "    <tr>\n",
              "      <th>2</th>\n",
              "      <td>Barbour</td>\n",
              "      <td>Alabama</td>\n",
              "      <td>2437</td>\n",
              "      <td>61.0</td>\n",
              "      <td>1364.0</td>\n",
              "      <td>43.0</td>\n",
              "      <td>1073.0</td>\n",
              "      <td>18.0</td>\n",
              "      <td>1005</td>\n",
              "      <td>46.8</td>\n",
              "      <td>47.6</td>\n",
              "      <td>0.3</td>\n",
              "      <td>0.5</td>\n",
              "      <td>0.0</td>\n",
              "      <td>3.6</td>\n",
              "      <td>1.2</td>\n",
              "      <td>4.4</td>\n",
              "      <td>45.8</td>\n",
              "      <td>40.4</td>\n",
              "      <td>73.2</td>\n",
              "      <td>11.6</td>\n",
              "      <td>47068</td>\n",
              "      <td>32525</td>\n",
              "      <td>17963</td>\n",
              "      <td>18473</td>\n",
              "      <td>2.41</td>\n",
              "      <td>30.7</td>\n",
              "      <td>9.4</td>\n",
              "      <td>11.3</td>\n",
              "      <td>51.9</td>\n",
              "      <td>60.5</td>\n",
              "      <td>64.2</td>\n",
              "      <td>9345</td>\n",
              "      <td>24686</td>\n",
              "      <td>27.7</td>\n",
              "      <td>34.4</td>\n",
              "      <td>0.076631</td>\n",
              "      <td>0.096092</td>\n",
              "      <td>52.920684</td>\n",
              "    </tr>\n",
              "    <tr>\n",
              "      <th>3</th>\n",
              "      <td>Bibb</td>\n",
              "      <td>Alabama</td>\n",
              "      <td>2814</td>\n",
              "      <td>65.0</td>\n",
              "      <td>2264.0</td>\n",
              "      <td>41.0</td>\n",
              "      <td>550.0</td>\n",
              "      <td>24.0</td>\n",
              "      <td>1007</td>\n",
              "      <td>76.8</td>\n",
              "      <td>22.3</td>\n",
              "      <td>0.1</td>\n",
              "      <td>0.1</td>\n",
              "      <td>0.0</td>\n",
              "      <td>0.0</td>\n",
              "      <td>0.6</td>\n",
              "      <td>2.6</td>\n",
              "      <td>74.5</td>\n",
              "      <td>40.9</td>\n",
              "      <td>79.1</td>\n",
              "      <td>10.4</td>\n",
              "      <td>60182</td>\n",
              "      <td>47542</td>\n",
              "      <td>21958</td>\n",
              "      <td>20778</td>\n",
              "      <td>2.99</td>\n",
              "      <td>NaN</td>\n",
              "      <td>7.0</td>\n",
              "      <td>10.7</td>\n",
              "      <td>54.7</td>\n",
              "      <td>69.2</td>\n",
              "      <td>66.6</td>\n",
              "      <td>6891</td>\n",
              "      <td>22394</td>\n",
              "      <td>22.5</td>\n",
              "      <td>29.5</td>\n",
              "      <td>0.577280</td>\n",
              "      <td>0.125106</td>\n",
              "      <td>53.268733</td>\n",
              "    </tr>\n",
              "    <tr>\n",
              "      <th>4</th>\n",
              "      <td>Blount</td>\n",
              "      <td>Alabama</td>\n",
              "      <td>7195</td>\n",
              "      <td>139.0</td>\n",
              "      <td>5495.0</td>\n",
              "      <td>118.0</td>\n",
              "      <td>1700.0</td>\n",
              "      <td>21.0</td>\n",
              "      <td>1009</td>\n",
              "      <td>95.5</td>\n",
              "      <td>1.6</td>\n",
              "      <td>0.1</td>\n",
              "      <td>0.4</td>\n",
              "      <td>0.0</td>\n",
              "      <td>0.9</td>\n",
              "      <td>1.6</td>\n",
              "      <td>9.3</td>\n",
              "      <td>86.9</td>\n",
              "      <td>40.7</td>\n",
              "      <td>80.5</td>\n",
              "      <td>13.1</td>\n",
              "      <td>65639</td>\n",
              "      <td>49358</td>\n",
              "      <td>26976</td>\n",
              "      <td>24747</td>\n",
              "      <td>2.74</td>\n",
              "      <td>13.6</td>\n",
              "      <td>3.1</td>\n",
              "      <td>10.8</td>\n",
              "      <td>63.5</td>\n",
              "      <td>73.0</td>\n",
              "      <td>70.1</td>\n",
              "      <td>20847</td>\n",
              "      <td>57826</td>\n",
              "      <td>19.3</td>\n",
              "      <td>24.4</td>\n",
              "      <td>0.800022</td>\n",
              "      <td>0.124738</td>\n",
              "      <td>49.237367</td>\n",
              "    </tr>\n",
              "  </tbody>\n",
              "</table>\n",
              "</div>"
            ],
            "text/plain": [
              "    county    state  cases  ...  per_point_diff  cases_per_capita  male_2019\n",
              "0  Autauga  Alabama   7435  ...        0.444184          0.134254  48.492008\n",
              "1  Baldwin  Alabama  23922  ...        0.537623          0.112400  48.490373\n",
              "2  Barbour  Alabama   2437  ...        0.076631          0.096092  52.920684\n",
              "3     Bibb  Alabama   2814  ...        0.577280          0.125106  53.268733\n",
              "4   Blount  Alabama   7195  ...        0.800022          0.124738  49.237367\n",
              "\n",
              "[5 rows x 39 columns]"
            ]
          },
          "metadata": {
            "tags": []
          },
          "execution_count": 17
        }
      ]
    },
    {
      "cell_type": "code",
      "metadata": {
        "id": "sii_rg-jhPMx",
        "colab": {
          "base_uri": "https://localhost:8080/",
          "height": 756
        },
        "outputId": "0e045e9a-572e-42c3-ab8f-9020964d6783"
      },
      "source": [
        "import missingno as msno\n",
        "df = df.drop(columns = [\"confirmed_cases\", \"confirmed_deaths\", \"probable_deaths\", \"probable_cases\", \"poverty_2019\"])\n",
        "msno.bar(df)"
      ],
      "execution_count": null,
      "outputs": [
        {
          "output_type": "execute_result",
          "data": {
            "text/plain": [
              "<matplotlib.axes._subplots.AxesSubplot at 0x7f86ad0354d0>"
            ]
          },
          "metadata": {
            "tags": []
          },
          "execution_count": 18
        },
        {
          "output_type": "display_data",
          "data": {
            "image/png": "[encoded data removed]",
            "text/plain": [
              "<Figure size 1800x720 with 3 Axes>"
            ]
          },
          "metadata": {
            "tags": [],
            "needs_background": "light"
          }
        }
      ]
    },
    {
      "cell_type": "code",
      "metadata": {
        "id": "dVuNORH4nxUT"
      },
      "source": [
        "columns = df.columns\n",
        "columns = columns.drop([\"county\", \"state\", \"cases_per_capita\", \"fips\", \"cases\"])\n",
        "df_num = df.loc[:, columns]\n",
        "fig, axes = plt.subplots(9, 3, figsize=(20, 40))\n",
        "\n",
        "for i, ax in enumerate(axes.ravel()):\n",
        "    ax.plot(df_num.iloc[:, i], df.cases_per_capita, 'o', alpha=.5)\n",
        "    ax.set_title(\"{}: {}\".format(i, df_num.columns[i]))\n",
        "    ax.set_ylabel(\"Cases Per Capita\")\n",
        "plt.tight_layout()\n",
        "plt.show()"
      ],
      "execution_count": null,
      "outputs": []
    },
    {
      "cell_type": "code",
      "metadata": {
        "id": "sd-ndFboI7mb"
      },
      "source": [
        "#df_test[\"non-white\"] = df[\"black_2019\"] + df[\"asian_2019\"] + df[\"two_plus_races_2019\"] + df[\"native_2019\"] + df[\"pac_isl_2019\"]\n",
        "df_test = df[[\"male_2019\", \"median_age_2019\", \"household_has_computer_2019\", \"per_point_diff\", \n",
        "              \"Series_Complete_Pop_Pct\", \"two_plus_races_2019\",\n",
        "              \"unemployment_rate_2019\", \"black_2019\", \"TOT_POP\", \"cases_per_capita\"]]\n",
        "df1 = df_test"
      ],
      "execution_count": null,
      "outputs": []
    },
    {
      "cell_type": "code",
      "metadata": {
        "id": "uDGXCXcH_-DN"
      },
      "source": [
        "from sklearn.preprocessing import StandardScaler\n",
        "scaler = StandardScaler()\n",
        "\n",
        "columns = df1.columns\n",
        "columns = columns.drop([\"cases_per_capita\"])\n",
        "df1[columns] = scaler.fit_transform(df[columns])\n",
        "df1.head()"
      ],
      "execution_count": null,
      "outputs": []
    },
    {
      "cell_type": "code",
      "metadata": {
        "id": "m8lfEhbe6Erb",
        "colab": {
          "base_uri": "https://localhost:8080/",
          "height": 649
        },
        "outputId": "07174623-d32d-4591-db81-4276b73023b5"
      },
      "source": [
        "simpler = \"\"\n",
        "for thing in df_test.columns:\n",
        "  if thing != \"cases_per_capita\" and thing != \"black_2019\":\n",
        "    simpler += thing + \" + \"\n",
        "simpler += \"black_2019\"\n",
        "print(simpler)\n",
        "simpler2 = 'cases_per_capita ~ ' + simpler\n",
        "\n",
        "lm = smf.ols(formula= simpler2, data=df_test).fit()\n",
        "\n",
        "# print the summary for the model coefficients\n",
        "lm.summary()\n"
      ],
      "execution_count": null,
      "outputs": [
        {
          "output_type": "stream",
          "text": [
            "male_2019 + median_age_2019 + household_has_computer_2019 + per_point_diff + Series_Complete_Pop_Pct + two_plus_races_2019 + unemployment_rate_2019 + TOT_POP + black_2019\n"
          ],
          "name": "stdout"
        },
        {
          "output_type": "execute_result",
          "data": {
            "text/html": [
              "<table class=\"simpletable\">\n",
              "<caption>OLS Regression Results</caption>\n",
              "<tr>\n",
              "  <th>Dep. Variable:</th>    <td>cases_per_capita</td> <th>  R-squared:         </th>  <td>   0.282</td> \n",
              "</tr>\n",
              "<tr>\n",
              "  <th>Model:</th>                   <td>OLS</td>       <th>  Adj. R-squared:    </th>  <td>   0.280</td> \n",
              "</tr>\n",
              "<tr>\n",
              "  <th>Method:</th>             <td>Least Squares</td>  <th>  F-statistic:       </th>  <td>   132.3</td> \n",
              "</tr>\n",
              "<tr>\n",
              "  <th>Date:</th>             <td>Fri, 06 Aug 2021</td> <th>  Prob (F-statistic):</th>  <td>9.89e-211</td>\n",
              "</tr>\n",
              "<tr>\n",
              "  <th>Time:</th>                 <td>13:31:24</td>     <th>  Log-Likelihood:    </th>  <td>  6838.1</td> \n",
              "</tr>\n",
              "<tr>\n",
              "  <th>No. Observations:</th>      <td>  3042</td>      <th>  AIC:               </th> <td>-1.366e+04</td>\n",
              "</tr>\n",
              "<tr>\n",
              "  <th>Df Residuals:</th>          <td>  3032</td>      <th>  BIC:               </th> <td>-1.360e+04</td>\n",
              "</tr>\n",
              "<tr>\n",
              "  <th>Df Model:</th>              <td>     9</td>      <th>                     </th>      <td> </td>    \n",
              "</tr>\n",
              "<tr>\n",
              "  <th>Covariance Type:</th>      <td>nonrobust</td>    <th>                     </th>      <td> </td>    \n",
              "</tr>\n",
              "</table>\n",
              "<table class=\"simpletable\">\n",
              "<tr>\n",
              "               <td></td>                  <th>coef</th>     <th>std err</th>      <th>t</th>      <th>P>|t|</th>  <th>[0.025</th>    <th>0.975]</th>  \n",
              "</tr>\n",
              "<tr>\n",
              "  <th>Intercept</th>                   <td>    0.1058</td> <td>    0.000</td> <td>  227.951</td> <td> 0.000</td> <td>    0.105</td> <td>    0.107</td>\n",
              "</tr>\n",
              "<tr>\n",
              "  <th>male_2019</th>                   <td>    0.0051</td> <td>    0.000</td> <td>   10.676</td> <td> 0.000</td> <td>    0.004</td> <td>    0.006</td>\n",
              "</tr>\n",
              "<tr>\n",
              "  <th>median_age_2019</th>             <td>   -0.0128</td> <td>    0.000</td> <td>  -25.751</td> <td> 0.000</td> <td>   -0.014</td> <td>   -0.012</td>\n",
              "</tr>\n",
              "<tr>\n",
              "  <th>household_has_computer_2019</th> <td>   -0.0084</td> <td>    0.001</td> <td>  -13.066</td> <td> 0.000</td> <td>   -0.010</td> <td>   -0.007</td>\n",
              "</tr>\n",
              "<tr>\n",
              "  <th>per_point_diff</th>              <td>    0.0082</td> <td>    0.001</td> <td>   11.461</td> <td> 0.000</td> <td>    0.007</td> <td>    0.010</td>\n",
              "</tr>\n",
              "<tr>\n",
              "  <th>Series_Complete_Pop_Pct</th>     <td>    0.0063</td> <td>    0.001</td> <td>   11.009</td> <td> 0.000</td> <td>    0.005</td> <td>    0.007</td>\n",
              "</tr>\n",
              "<tr>\n",
              "  <th>two_plus_races_2019</th>         <td>   -0.0018</td> <td>    0.000</td> <td>   -3.601</td> <td> 0.000</td> <td>   -0.003</td> <td>   -0.001</td>\n",
              "</tr>\n",
              "<tr>\n",
              "  <th>unemployment_rate_2019</th>      <td>   -0.0027</td> <td>    0.001</td> <td>   -4.803</td> <td> 0.000</td> <td>   -0.004</td> <td>   -0.002</td>\n",
              "</tr>\n",
              "<tr>\n",
              "  <th>TOT_POP</th>                     <td>    0.0020</td> <td>    0.001</td> <td>    3.886</td> <td> 0.000</td> <td>    0.001</td> <td>    0.003</td>\n",
              "</tr>\n",
              "<tr>\n",
              "  <th>black_2019</th>                  <td>    0.0030</td> <td>    0.001</td> <td>    4.611</td> <td> 0.000</td> <td>    0.002</td> <td>    0.004</td>\n",
              "</tr>\n",
              "</table>\n",
              "<table class=\"simpletable\">\n",
              "<tr>\n",
              "  <th>Omnibus:</th>       <td>723.143</td> <th>  Durbin-Watson:     </th> <td>   1.582</td>\n",
              "</tr>\n",
              "<tr>\n",
              "  <th>Prob(Omnibus):</th> <td> 0.000</td>  <th>  Jarque-Bera (JB):  </th> <td>6886.315</td>\n",
              "</tr>\n",
              "<tr>\n",
              "  <th>Skew:</th>          <td> 0.851</td>  <th>  Prob(JB):          </th> <td>    0.00</td>\n",
              "</tr>\n",
              "<tr>\n",
              "  <th>Kurtosis:</th>      <td>10.172</td>  <th>  Cond. No.          </th> <td>    2.99</td>\n",
              "</tr>\n",
              "</table><br/><br/>Warnings:<br/>[1] Standard Errors assume that the covariance matrix of the errors is correctly specified."
            ],
            "text/plain": [
              "<class 'statsmodels.iolib.summary.Summary'>\n",
              "\"\"\"\n",
              "                            OLS Regression Results                            \n",
              "==============================================================================\n",
              "Dep. Variable:       cases_per_capita   R-squared:                       0.282\n",
              "Model:                            OLS   Adj. R-squared:                  0.280\n",
              "Method:                 Least Squares   F-statistic:                     132.3\n",
              "Date:                Fri, 06 Aug 2021   Prob (F-statistic):          9.89e-211\n",
              "Time:                        13:31:24   Log-Likelihood:                 6838.1\n",
              "No. Observations:                3042   AIC:                        -1.366e+04\n",
              "Df Residuals:                    3032   BIC:                        -1.360e+04\n",
              "Df Model:                           9                                         \n",
              "Covariance Type:            nonrobust                                         \n",
              "===============================================================================================\n",
              "                                  coef    std err          t      P>|t|      [0.025      0.975]\n",
              "-----------------------------------------------------------------------------------------------\n",
              "Intercept                       0.1058      0.000    227.951      0.000       0.105       0.107\n",
              "male_2019                       0.0051      0.000     10.676      0.000       0.004       0.006\n",
              "median_age_2019                -0.0128      0.000    -25.751      0.000      -0.014      -0.012\n",
              "household_has_computer_2019    -0.0084      0.001    -13.066      0.000      -0.010      -0.007\n",
              "per_point_diff                  0.0082      0.001     11.461      0.000       0.007       0.010\n",
              "Series_Complete_Pop_Pct         0.0063      0.001     11.009      0.000       0.005       0.007\n",
              "two_plus_races_2019            -0.0018      0.000     -3.601      0.000      -0.003      -0.001\n",
              "unemployment_rate_2019         -0.0027      0.001     -4.803      0.000      -0.004      -0.002\n",
              "TOT_POP                         0.0020      0.001      3.886      0.000       0.001       0.003\n",
              "black_2019                      0.0030      0.001      4.611      0.000       0.002       0.004\n",
              "==============================================================================\n",
              "Omnibus:                      723.143   Durbin-Watson:                   1.582\n",
              "Prob(Omnibus):                  0.000   Jarque-Bera (JB):             6886.315\n",
              "Skew:                           0.851   Prob(JB):                         0.00\n",
              "Kurtosis:                      10.172   Cond. No.                         2.99\n",
              "==============================================================================\n",
              "\n",
              "Warnings:\n",
              "[1] Standard Errors assume that the covariance matrix of the errors is correctly specified.\n",
              "\"\"\""
            ]
          },
          "metadata": {
            "tags": []
          },
          "execution_count": 22
        }
      ]
    },
    {
      "cell_type": "code",
      "metadata": {
        "colab": {
          "base_uri": "https://localhost:8080/"
        },
        "id": "7rmC0Go-IjSN",
        "outputId": "010be970-ac5a-4591-f331-b73cba7c9f20"
      },
      "source": [
        "from sklearn.model_selection import train_test_split\n",
        "import numpy as np\n",
        "from sklearn import metrics\n",
        "from sklearn.ensemble import RandomForestRegressor\n",
        "from sklearn.linear_model import LinearRegression\n",
        "\n",
        "columns1 = df_test.columns\n",
        "columns1 = columns1.drop([\"cases_per_capita\"])\n",
        "X = df_test[columns1]\n",
        "y = df_test.cases_per_capita\n",
        "\n",
        "X_train, X_test, y_train, y_test = train_test_split(X, y, test_size = .25, random_state = 42)\n",
        "\n",
        "rf_model = RandomForestRegressor(max_depth = 6, min_samples_leaf = 5)\n",
        "rf_model = rf_model.fit(X_train, y_train)\n",
        "pred = rf_model.predict(X_test)\n",
        "\n",
        "print('Root Mean Squared Error (RMSE):', np.sqrt(metrics.mean_squared_error(y_test, pred)))\n",
        "print(\"R^2: \" + str(rf_model.score(X_test,y_test)))\n",
        "\n",
        "linreg2 = LinearRegression()\n",
        "linreg2.fit(X_train, y_train)\n",
        "y_pred = linreg2.predict(X_test)\n",
        "\n",
        "print(\"Root Mean Square Error: \" + str(np.sqrt(metrics.mean_squared_error(y_test, y_pred))))\n",
        "print(\"R^2: \" + str(linreg2.score(X_test,y_test)))"
      ],
      "execution_count": null,
      "outputs": [
        {
          "output_type": "stream",
          "text": [
            "Root Mean Squared Error (RMSE): 0.024441986012103428\n",
            "R^2: 0.37090471129029645\n",
            "Root Mean Square Error: 0.025406097504798518\n",
            "R^2: 0.32029671111163294\n"
          ],
          "name": "stdout"
        }
      ]
    },
    {
      "cell_type": "code",
      "metadata": {
        "id": "I33yjBX07UzH",
        "colab": {
          "base_uri": "https://localhost:8080/",
          "height": 71
        },
        "outputId": "ea8435b7-efe6-42e4-ab3e-4ad4390ebf7b"
      },
      "source": [
        "'''\n",
        "df1 = df.drop(columns = [\"hispanic_2019\", \"white_not_hispanic_2019\"])\n",
        "df1 = df1.drop(columns = [\"hs_grad_2019\"])\n",
        "df1 = df1.drop(columns = [\"household_has_broadband_2019\", \"Administered_Dose1_Pop_Pct\"])\n",
        "df1 = df1.drop(columns = [\"median_household_income_2019\", \"median_individual_income_2019\", \"households_2019\"])\n",
        "df.corr()\n",
        "'''"
      ],
      "execution_count": null,
      "outputs": [
        {
          "output_type": "execute_result",
          "data": {
            "application/vnd.google.colaboratory.intrinsic+json": {
              "type": "string"
            },
            "text/plain": [
              "'\\ndf1 = df.drop(columns = [\"hispanic_2019\", \"white_not_hispanic_2019\"])\\ndf1 = df1.drop(columns = [\"hs_grad_2019\"])\\ndf1 = df1.drop(columns = [\"household_has_broadband_2019\", \"Administered_Dose1_Pop_Pct\"])\\ndf1 = df1.drop(columns = [\"median_household_income_2019\", \"median_individual_income_2019\", \"households_2019\"])\\ndf.corr()\\n'"
            ]
          },
          "metadata": {
            "tags": []
          },
          "execution_count": 24
        }
      ]
    },
    {
      "cell_type": "markdown",
      "metadata": {
        "id": "IhAqCeu-1S-F"
      },
      "source": [
        "# **Model**"
      ]
    },
    {
      "cell_type": "code",
      "metadata": {
        "id": "b5OaY0PvpTt-"
      },
      "source": [
        "columns1 = df1.columns\n",
        "columns1 = columns1.drop(\"cases_per_capita\")\n",
        "X = df1[columns1]\n",
        "y = df1.cases_per_capita\n",
        "\n",
        "X_train, X_test, y_train, y_test = train_test_split(X, y, test_size = .25, random_state = 42)"
      ],
      "execution_count": null,
      "outputs": []
    },
    {
      "cell_type": "code",
      "metadata": {
        "id": "TVG6aztKqNMI",
        "colab": {
          "base_uri": "https://localhost:8080/"
        },
        "outputId": "9a85877b-0867-4621-b2ee-3bdfbd9f92bf"
      },
      "source": [
        "print(X_train.mean())\n",
        "print(\"\\n\\n\")\n",
        "print(X_test.mean())"
      ],
      "execution_count": null,
      "outputs": [
        {
          "output_type": "stream",
          "text": [
            "male_2019                      0.010448\n",
            "median_age_2019               -0.010702\n",
            "household_has_computer_2019    0.002742\n",
            "per_point_diff                 0.005407\n",
            "Series_Complete_Pop_Pct        0.001813\n",
            "two_plus_races_2019            0.007211\n",
            "unemployment_rate_2019        -0.001207\n",
            "black_2019                    -0.008568\n",
            "TOT_POP                       -0.007900\n",
            "dtype: float64\n",
            "\n",
            "\n",
            "\n",
            "male_2019                     -0.031316\n",
            "median_age_2019                0.032078\n",
            "household_has_computer_2019   -0.008219\n",
            "per_point_diff                -0.016208\n",
            "Series_Complete_Pop_Pct       -0.005435\n",
            "two_plus_races_2019           -0.021613\n",
            "unemployment_rate_2019         0.003618\n",
            "black_2019                     0.025681\n",
            "TOT_POP                        0.023680\n",
            "dtype: float64\n"
          ],
          "name": "stdout"
        }
      ]
    },
    {
      "cell_type": "markdown",
      "metadata": {
        "id": "LbwwnfFU147c"
      },
      "source": [
        "## **Decision Tree**"
      ]
    },
    {
      "cell_type": "code",
      "metadata": {
        "id": "X27qDE_rqlGm"
      },
      "source": [
        "from sklearn.tree import DecisionTreeRegressor\n",
        "\n",
        "## Train simple regression tree\n",
        "simple_tree = DecisionTreeRegressor(max_depth = 6, min_samples_leaf = 5, min_samples_split = 12)\n",
        "simple_tree= simple_tree.fit(X, y)"
      ],
      "execution_count": null,
      "outputs": []
    },
    {
      "cell_type": "code",
      "metadata": {
        "id": "oGfLWOdRrm8P"
      },
      "source": [
        "from sklearn import tree\n",
        "import graphviz \n",
        "\n",
        "dot_data = tree.export_graphviz(simple_tree, out_file=None, \n",
        "                                feature_names = columns1, \n",
        "                                class_names = ['cases_per_capita'])  \n",
        "graph = graphviz.Source(dot_data)  \n",
        "graph "
      ],
      "execution_count": null,
      "outputs": []
    },
    {
      "cell_type": "markdown",
      "metadata": {
        "id": "fAyKLyvp1-eS"
      },
      "source": [
        "## **Random Forest**"
      ]
    },
    {
      "cell_type": "code",
      "metadata": {
        "id": "aRK96WossNXt",
        "colab": {
          "base_uri": "https://localhost:8080/",
          "height": 105
        },
        "outputId": "9561931d-2a4a-47d9-efca-f55650abf673"
      },
      "source": [
        "from sklearn import metrics\n",
        "\n",
        "#pred = simple_tree.predict(X_test)\n",
        "\n",
        "result = simple_tree.score(X_test, y_test)\n",
        "print(result)\n",
        "'''\n",
        "from sklearn.metrics import roc_auc_score\n",
        "from sklearn.metrics import roc_curve\n",
        "logit_roc_auc = roc_auc_score(y_test, pred)\n",
        "\n",
        "# gives you the points for the roc-curve \n",
        "fpr, tpr, thresholds = roc_curve(y_test, pred_prob[:,1])\n",
        "\n",
        "\n",
        "plt.figure()\n",
        "plt.plot(fpr, tpr, label='Random Forest (area = %0.2f)' % logit_roc_auc)\n",
        "plt.plot([0, 1], [0, 1],'r--')\n",
        "plt.xlim([0.0, 1.0])\n",
        "plt.ylim([0.0, 1.05])\n",
        "plt.xlabel('False Positive Rate')\n",
        "plt.ylabel('True Positive Rate')\n",
        "plt.title('Receiver operating characteristic')\n",
        "plt.legend(loc=\"lower right\")\n",
        "plt.savefig('Forest_ROC')\n",
        "plt.show()\n",
        "'''"
      ],
      "execution_count": null,
      "outputs": [
        {
          "output_type": "stream",
          "text": [
            "0.4710134687459044\n"
          ],
          "name": "stdout"
        },
        {
          "output_type": "execute_result",
          "data": {
            "application/vnd.google.colaboratory.intrinsic+json": {
              "type": "string"
            },
            "text/plain": [
              "'\\nfrom sklearn.metrics import roc_auc_score\\nfrom sklearn.metrics import roc_curve\\nlogit_roc_auc = roc_auc_score(y_test, pred)\\n\\n# gives you the points for the roc-curve \\nfpr, tpr, thresholds = roc_curve(y_test, pred_prob[:,1])\\n\\n\\nplt.figure()\\nplt.plot(fpr, tpr, label=\\'Random Forest (area = %0.2f)\\' % logit_roc_auc)\\nplt.plot([0, 1], [0, 1],\\'r--\\')\\nplt.xlim([0.0, 1.0])\\nplt.ylim([0.0, 1.05])\\nplt.xlabel(\\'False Positive Rate\\')\\nplt.ylabel(\\'True Positive Rate\\')\\nplt.title(\\'Receiver operating characteristic\\')\\nplt.legend(loc=\"lower right\")\\nplt.savefig(\\'Forest_ROC\\')\\nplt.show()\\n'"
            ]
          },
          "metadata": {
            "tags": []
          },
          "execution_count": 29
        }
      ]
    },
    {
      "cell_type": "code",
      "metadata": {
        "id": "PzDHyMHByJql"
      },
      "source": [
        "from sklearn.model_selection import train_test_split\n",
        "# Load scikit's random forest classifier library\n",
        "from sklearn.ensemble import RandomForestRegressor\n",
        "\n",
        "# Create the model with 100 trees\n",
        "rf_model = RandomForestRegressor(max_depth = 6, min_samples_leaf = 5)\n",
        "\n",
        "# Fit on training data\n",
        "rf_model = rf_model.fit(X_train, y_train)"
      ],
      "execution_count": null,
      "outputs": []
    },
    {
      "cell_type": "code",
      "metadata": {
        "id": "kLFQ11We2G1m",
        "colab": {
          "base_uri": "https://localhost:8080/",
          "height": 297
        },
        "outputId": "b7e88f07-afce-4951-ca26-f03b68bacaed"
      },
      "source": [
        "## visualize feature importance\n",
        "importances = rf_model.feature_importances_\n",
        "\n",
        "forest_importances = pd.Series(importances, index=X_train.columns).sort_values()\n",
        "fig, ax = plt.subplots()\n",
        "forest_importances.plot.barh()\n",
        "ax.set_title(\"Feature importances\")\n",
        "ax.set_ylabel(\"Var\")\n",
        "fig.tight_layout()"
      ],
      "execution_count": null,
      "outputs": [
        {
          "output_type": "display_data",
          "data": {
            "image/png": "[encoded data removed]",
            "text/plain": [
              "<Figure size 432x288 with 1 Axes>"
            ]
          },
          "metadata": {
            "tags": [],
            "needs_background": "light"
          }
        }
      ]
    },
    {
      "cell_type": "code",
      "metadata": {
        "id": "QyUE-5My11bj",
        "colab": {
          "base_uri": "https://localhost:8080/"
        },
        "outputId": "50cb4477-c399-4524-aefa-59f2dd3f362a"
      },
      "source": [
        "import numpy as np\n",
        "from sklearn import metrics\n",
        "\n",
        "pred = rf_model.predict(X_test)\n",
        "\n",
        "print('Root Mean Squared Error (RMSE):', np.sqrt(metrics.mean_squared_error(y_test, pred)))\n",
        "print(\"R^2: \" + str(rf_model.score(X_test,y_test)))"
      ],
      "execution_count": null,
      "outputs": [
        {
          "output_type": "stream",
          "text": [
            "Root Mean Squared Error (RMSE): 0.024525210781628955\n",
            "R^2: 0.36661328858852227\n"
          ],
          "name": "stdout"
        }
      ]
    },
    {
      "cell_type": "markdown",
      "metadata": {
        "id": "IAGy7M1S3XKD"
      },
      "source": [
        "## **Linear Regression**"
      ]
    },
    {
      "cell_type": "code",
      "metadata": {
        "id": "wm1y6uFY3Wlm",
        "colab": {
          "base_uri": "https://localhost:8080/"
        },
        "outputId": "1508992c-d4b9-482b-82f9-efea31101cb7"
      },
      "source": [
        "from sklearn.linear_model import LinearRegression\n",
        "linreg = LinearRegression()\n",
        "linreg.fit(X_train, y_train)\n",
        "\n",
        "# print the coefficients\n",
        "\n",
        "print(linreg.intercept_)\n",
        "print(linreg.coef_)"
      ],
      "execution_count": null,
      "outputs": [
        {
          "output_type": "stream",
          "text": [
            "0.10589838255918829\n",
            "[ 0.00509923 -0.01245196 -0.00765377  0.00840073  0.00561966 -0.00171684\n",
            " -0.00227221  0.00296562  0.0025961 ]\n"
          ],
          "name": "stdout"
        }
      ]
    },
    {
      "cell_type": "code",
      "metadata": {
        "id": "4li_lVdh4K4p",
        "colab": {
          "base_uri": "https://localhost:8080/"
        },
        "outputId": "ab93e743-3510-4b6d-d366-73b8be115d28"
      },
      "source": [
        "y_pred = linreg.predict(X_test)\n",
        "\n",
        "np.sqrt(metrics.mean_squared_error(y_test, y_pred))"
      ],
      "execution_count": null,
      "outputs": [
        {
          "output_type": "execute_result",
          "data": {
            "text/plain": [
              "0.025406097504798518"
            ]
          },
          "metadata": {
            "tags": []
          },
          "execution_count": 34
        }
      ]
    },
    {
      "cell_type": "code",
      "metadata": {
        "id": "STKNFbQY5DmS",
        "colab": {
          "base_uri": "https://localhost:8080/"
        },
        "outputId": "7f29bcbb-c107-4b73-aedd-b2e345b03ba0"
      },
      "source": [
        "print(columns1)"
      ],
      "execution_count": null,
      "outputs": [
        {
          "output_type": "stream",
          "text": [
            "Index(['male_2019', 'median_age_2019', 'household_has_computer_2019',\n",
            "       'per_point_diff', 'Series_Complete_Pop_Pct', 'two_plus_races_2019',\n",
            "       'unemployment_rate_2019', 'black_2019', 'TOT_POP'],\n",
            "      dtype='object')\n"
          ],
          "name": "stdout"
        }
      ]
    },
    {
      "cell_type": "code",
      "metadata": {
        "id": "T93naKU545u7",
        "colab": {
          "base_uri": "https://localhost:8080/",
          "height": 940
        },
        "outputId": "6f34f260-e451-4191-d2fe-f343fd020ca5"
      },
      "source": [
        "# create a fitted model with all three features\n",
        "lm = smf.ols(formula='cases_per_capita ~ white_2019 + black_2019 + native_2019 + \\\n",
        "        asian_2019 + pac_isl_2019 + other_single_race_2019 + two_plus_races_2019 + hispanic_2019 \\\n",
        "       + white_not_hispanic_2019 + median_age_2019 + hs_grad_2019 + \\\n",
        "       bachelors_2019 + mean_household_income_2019+ \\\n",
        "       per_capita_income_2019 + persons_per_household_2019 + \\\n",
        "       unemployment_rate_2019 + uninsured_2019 + \\\n",
        "       household_has_computer_2019 + household_has_broadband_2019 + \\\n",
        "       household_has_smartphone_2019 + TOT_POP + \\\n",
        "       male_2019 + Series_Complete_Pop_Pct', data=df).fit()\n",
        "\n",
        "# print the summary for the model coefficients\n",
        "lm.summary()"
      ],
      "execution_count": null,
      "outputs": [
        {
          "output_type": "execute_result",
          "data": {
            "text/html": [
              "<table class=\"simpletable\">\n",
              "<caption>OLS Regression Results</caption>\n",
              "<tr>\n",
              "  <th>Dep. Variable:</th>    <td>cases_per_capita</td> <th>  R-squared:         </th>  <td>   0.295</td> \n",
              "</tr>\n",
              "<tr>\n",
              "  <th>Model:</th>                   <td>OLS</td>       <th>  Adj. R-squared:    </th>  <td>   0.290</td> \n",
              "</tr>\n",
              "<tr>\n",
              "  <th>Method:</th>             <td>Least Squares</td>  <th>  F-statistic:       </th>  <td>   54.94</td> \n",
              "</tr>\n",
              "<tr>\n",
              "  <th>Date:</th>             <td>Fri, 06 Aug 2021</td> <th>  Prob (F-statistic):</th>  <td>3.54e-209</td>\n",
              "</tr>\n",
              "<tr>\n",
              "  <th>Time:</th>                 <td>13:31:27</td>     <th>  Log-Likelihood:    </th>  <td>  6866.1</td> \n",
              "</tr>\n",
              "<tr>\n",
              "  <th>No. Observations:</th>      <td>  3042</td>      <th>  AIC:               </th> <td>-1.368e+04</td>\n",
              "</tr>\n",
              "<tr>\n",
              "  <th>Df Residuals:</th>          <td>  3018</td>      <th>  BIC:               </th> <td>-1.354e+04</td>\n",
              "</tr>\n",
              "<tr>\n",
              "  <th>Df Model:</th>              <td>    23</td>      <th>                     </th>      <td> </td>    \n",
              "</tr>\n",
              "<tr>\n",
              "  <th>Covariance Type:</th>      <td>nonrobust</td>    <th>                     </th>      <td> </td>    \n",
              "</tr>\n",
              "</table>\n",
              "<table class=\"simpletable\">\n",
              "<tr>\n",
              "                <td></td>                   <th>coef</th>     <th>std err</th>      <th>t</th>      <th>P>|t|</th>  <th>[0.025</th>    <th>0.975]</th>  \n",
              "</tr>\n",
              "<tr>\n",
              "  <th>Intercept</th>                     <td>    1.3778</td> <td>    0.641</td> <td>    2.150</td> <td> 0.032</td> <td>    0.121</td> <td>    2.634</td>\n",
              "</tr>\n",
              "<tr>\n",
              "  <th>white_2019</th>                    <td>   -0.0133</td> <td>    0.006</td> <td>   -2.064</td> <td> 0.039</td> <td>   -0.026</td> <td>   -0.001</td>\n",
              "</tr>\n",
              "<tr>\n",
              "  <th>black_2019</th>                    <td>   -0.0125</td> <td>    0.006</td> <td>   -1.949</td> <td> 0.051</td> <td>   -0.025</td> <td> 7.48e-05</td>\n",
              "</tr>\n",
              "<tr>\n",
              "  <th>native_2019</th>                   <td>   -0.0119</td> <td>    0.006</td> <td>   -1.852</td> <td> 0.064</td> <td>   -0.024</td> <td>    0.001</td>\n",
              "</tr>\n",
              "<tr>\n",
              "  <th>asian_2019</th>                    <td>   -0.0137</td> <td>    0.006</td> <td>   -2.137</td> <td> 0.033</td> <td>   -0.026</td> <td>   -0.001</td>\n",
              "</tr>\n",
              "<tr>\n",
              "  <th>pac_isl_2019</th>                  <td>   -0.0139</td> <td>    0.007</td> <td>   -2.123</td> <td> 0.034</td> <td>   -0.027</td> <td>   -0.001</td>\n",
              "</tr>\n",
              "<tr>\n",
              "  <th>other_single_race_2019</th>        <td>   -0.0133</td> <td>    0.006</td> <td>   -2.067</td> <td> 0.039</td> <td>   -0.026</td> <td>   -0.001</td>\n",
              "</tr>\n",
              "<tr>\n",
              "  <th>two_plus_races_2019</th>           <td>   -0.0139</td> <td>    0.006</td> <td>   -2.172</td> <td> 0.030</td> <td>   -0.026</td> <td>   -0.001</td>\n",
              "</tr>\n",
              "<tr>\n",
              "  <th>hispanic_2019</th>                 <td>    0.0009</td> <td>    0.001</td> <td>    1.210</td> <td> 0.226</td> <td>   -0.001</td> <td>    0.002</td>\n",
              "</tr>\n",
              "<tr>\n",
              "  <th>white_not_hispanic_2019</th>       <td>    0.0008</td> <td>    0.001</td> <td>    1.091</td> <td> 0.275</td> <td>   -0.001</td> <td>    0.002</td>\n",
              "</tr>\n",
              "<tr>\n",
              "  <th>median_age_2019</th>               <td>   -0.0019</td> <td>    0.000</td> <td>  -13.424</td> <td> 0.000</td> <td>   -0.002</td> <td>   -0.002</td>\n",
              "</tr>\n",
              "<tr>\n",
              "  <th>hs_grad_2019</th>                  <td>    0.0001</td> <td>    0.000</td> <td>    0.863</td> <td> 0.388</td> <td>   -0.000</td> <td>    0.000</td>\n",
              "</tr>\n",
              "<tr>\n",
              "  <th>bachelors_2019</th>                <td>   -0.0005</td> <td>    0.000</td> <td>   -4.593</td> <td> 0.000</td> <td>   -0.001</td> <td>   -0.000</td>\n",
              "</tr>\n",
              "<tr>\n",
              "  <th>mean_household_income_2019</th>    <td> 3.722e-07</td> <td> 1.55e-07</td> <td>    2.400</td> <td> 0.016</td> <td> 6.81e-08</td> <td> 6.76e-07</td>\n",
              "</tr>\n",
              "<tr>\n",
              "  <th>per_capita_income_2019</th>        <td>-6.927e-07</td> <td>    4e-07</td> <td>   -1.731</td> <td> 0.084</td> <td>-1.48e-06</td> <td> 9.18e-08</td>\n",
              "</tr>\n",
              "<tr>\n",
              "  <th>persons_per_household_2019</th>    <td>   -0.0128</td> <td>    0.004</td> <td>   -3.608</td> <td> 0.000</td> <td>   -0.020</td> <td>   -0.006</td>\n",
              "</tr>\n",
              "<tr>\n",
              "  <th>unemployment_rate_2019</th>        <td>   -0.0017</td> <td>    0.000</td> <td>   -6.838</td> <td> 0.000</td> <td>   -0.002</td> <td>   -0.001</td>\n",
              "</tr>\n",
              "<tr>\n",
              "  <th>uninsured_2019</th>                <td>   -0.0002</td> <td>    0.000</td> <td>   -1.410</td> <td> 0.159</td> <td>   -0.000</td> <td> 8.15e-05</td>\n",
              "</tr>\n",
              "<tr>\n",
              "  <th>household_has_computer_2019</th>   <td>   -0.0014</td> <td>    0.000</td> <td>   -9.803</td> <td> 0.000</td> <td>   -0.002</td> <td>   -0.001</td>\n",
              "</tr>\n",
              "<tr>\n",
              "  <th>household_has_broadband_2019</th>  <td>    0.0002</td> <td>    0.000</td> <td>    1.189</td> <td> 0.235</td> <td>   -0.000</td> <td>    0.000</td>\n",
              "</tr>\n",
              "<tr>\n",
              "  <th>household_has_smartphone_2019</th> <td>    0.0008</td> <td>    0.000</td> <td>    6.192</td> <td> 0.000</td> <td>    0.001</td> <td>    0.001</td>\n",
              "</tr>\n",
              "<tr>\n",
              "  <th>TOT_POP</th>                       <td> 6.179e-09</td> <td> 1.67e-09</td> <td>    3.700</td> <td> 0.000</td> <td>  2.9e-09</td> <td> 9.45e-09</td>\n",
              "</tr>\n",
              "<tr>\n",
              "  <th>male_2019</th>                     <td>    0.0023</td> <td>    0.000</td> <td>    9.298</td> <td> 0.000</td> <td>    0.002</td> <td>    0.003</td>\n",
              "</tr>\n",
              "<tr>\n",
              "  <th>Series_Complete_Pop_Pct</th>       <td>    0.0002</td> <td> 3.86e-05</td> <td>    5.134</td> <td> 0.000</td> <td>    0.000</td> <td>    0.000</td>\n",
              "</tr>\n",
              "</table>\n",
              "<table class=\"simpletable\">\n",
              "<tr>\n",
              "  <th>Omnibus:</th>       <td>869.134</td> <th>  Durbin-Watson:     </th> <td>   1.588</td> \n",
              "</tr>\n",
              "<tr>\n",
              "  <th>Prob(Omnibus):</th> <td> 0.000</td>  <th>  Jarque-Bera (JB):  </th> <td>11364.288</td>\n",
              "</tr>\n",
              "<tr>\n",
              "  <th>Skew:</th>          <td> 0.981</td>  <th>  Prob(JB):          </th> <td>    0.00</td> \n",
              "</tr>\n",
              "<tr>\n",
              "  <th>Kurtosis:</th>      <td>12.263</td>  <th>  Cond. No.          </th> <td>4.84e+08</td> \n",
              "</tr>\n",
              "</table><br/><br/>Warnings:<br/>[1] Standard Errors assume that the covariance matrix of the errors is correctly specified.<br/>[2] The condition number is large, 4.84e+08. This might indicate that there are<br/>strong multicollinearity or other numerical problems."
            ],
            "text/plain": [
              "<class 'statsmodels.iolib.summary.Summary'>\n",
              "\"\"\"\n",
              "                            OLS Regression Results                            \n",
              "==============================================================================\n",
              "Dep. Variable:       cases_per_capita   R-squared:                       0.295\n",
              "Model:                            OLS   Adj. R-squared:                  0.290\n",
              "Method:                 Least Squares   F-statistic:                     54.94\n",
              "Date:                Fri, 06 Aug 2021   Prob (F-statistic):          3.54e-209\n",
              "Time:                        13:31:27   Log-Likelihood:                 6866.1\n",
              "No. Observations:                3042   AIC:                        -1.368e+04\n",
              "Df Residuals:                    3018   BIC:                        -1.354e+04\n",
              "Df Model:                          23                                         \n",
              "Covariance Type:            nonrobust                                         \n",
              "=================================================================================================\n",
              "                                    coef    std err          t      P>|t|      [0.025      0.975]\n",
              "-------------------------------------------------------------------------------------------------\n",
              "Intercept                         1.3778      0.641      2.150      0.032       0.121       2.634\n",
              "white_2019                       -0.0133      0.006     -2.064      0.039      -0.026      -0.001\n",
              "black_2019                       -0.0125      0.006     -1.949      0.051      -0.025    7.48e-05\n",
              "native_2019                      -0.0119      0.006     -1.852      0.064      -0.024       0.001\n",
              "asian_2019                       -0.0137      0.006     -2.137      0.033      -0.026      -0.001\n",
              "pac_isl_2019                     -0.0139      0.007     -2.123      0.034      -0.027      -0.001\n",
              "other_single_race_2019           -0.0133      0.006     -2.067      0.039      -0.026      -0.001\n",
              "two_plus_races_2019              -0.0139      0.006     -2.172      0.030      -0.026      -0.001\n",
              "hispanic_2019                     0.0009      0.001      1.210      0.226      -0.001       0.002\n",
              "white_not_hispanic_2019           0.0008      0.001      1.091      0.275      -0.001       0.002\n",
              "median_age_2019                  -0.0019      0.000    -13.424      0.000      -0.002      -0.002\n",
              "hs_grad_2019                      0.0001      0.000      0.863      0.388      -0.000       0.000\n",
              "bachelors_2019                   -0.0005      0.000     -4.593      0.000      -0.001      -0.000\n",
              "mean_household_income_2019     3.722e-07   1.55e-07      2.400      0.016    6.81e-08    6.76e-07\n",
              "per_capita_income_2019        -6.927e-07      4e-07     -1.731      0.084   -1.48e-06    9.18e-08\n",
              "persons_per_household_2019       -0.0128      0.004     -3.608      0.000      -0.020      -0.006\n",
              "unemployment_rate_2019           -0.0017      0.000     -6.838      0.000      -0.002      -0.001\n",
              "uninsured_2019                   -0.0002      0.000     -1.410      0.159      -0.000    8.15e-05\n",
              "household_has_computer_2019      -0.0014      0.000     -9.803      0.000      -0.002      -0.001\n",
              "household_has_broadband_2019      0.0002      0.000      1.189      0.235      -0.000       0.000\n",
              "household_has_smartphone_2019     0.0008      0.000      6.192      0.000       0.001       0.001\n",
              "TOT_POP                        6.179e-09   1.67e-09      3.700      0.000     2.9e-09    9.45e-09\n",
              "male_2019                         0.0023      0.000      9.298      0.000       0.002       0.003\n",
              "Series_Complete_Pop_Pct           0.0002   3.86e-05      5.134      0.000       0.000       0.000\n",
              "==============================================================================\n",
              "Omnibus:                      869.134   Durbin-Watson:                   1.588\n",
              "Prob(Omnibus):                  0.000   Jarque-Bera (JB):            11364.288\n",
              "Skew:                           0.981   Prob(JB):                         0.00\n",
              "Kurtosis:                      12.263   Cond. No.                     4.84e+08\n",
              "==============================================================================\n",
              "\n",
              "Warnings:\n",
              "[1] Standard Errors assume that the covariance matrix of the errors is correctly specified.\n",
              "[2] The condition number is large, 4.84e+08. This might indicate that there are\n",
              "strong multicollinearity or other numerical problems.\n",
              "\"\"\""
            ]
          },
          "metadata": {
            "tags": []
          },
          "execution_count": 36
        }
      ]
    },
    {
      "cell_type": "code",
      "metadata": {
        "id": "fldHr-RbbxBP",
        "colab": {
          "base_uri": "https://localhost:8080/"
        },
        "outputId": "5250deca-80a1-4ff7-c309-377aa841d4cc"
      },
      "source": [
        "from sklearn.linear_model import LinearRegression\n",
        "\n",
        "columns2 = df1.columns\n",
        "columns2 = columns2.drop([\"cases_per_capita\"])\n",
        "X = df1[columns2]\n",
        "y = df1.cases_per_capita\n",
        "\n",
        "X_train, X_test, y_train, y_test = train_test_split(X, y, test_size = .25, random_state = 42)\n",
        "\n",
        "linreg2 = LinearRegression()\n",
        "linreg2.fit(X_train, y_train)\n",
        "\n",
        "# print the coefficients\n",
        "\n",
        "print(linreg2.intercept_)\n",
        "print(linreg2.coef_)\n",
        "\n",
        "y_pred = linreg2.predict(X_test)\n",
        "y_pred2 = linreg2.predict(X)\n",
        "\n",
        "df1[\"prediction\"] = y_pred2\n",
        "print(\"Root Mean Square Error: \" + str(np.sqrt(metrics.mean_squared_error(y_test, y_pred))))"
      ],
      "execution_count": null,
      "outputs": [
        {
          "output_type": "stream",
          "text": [
            "0.10589838255918829\n",
            "[ 0.00509923 -0.01245196 -0.00765377  0.00840073  0.00561966 -0.00171684\n",
            " -0.00227221  0.00296562  0.0025961 ]\n",
            "Root Mean Square Error: 0.025406097504798518\n"
          ],
          "name": "stdout"
        },
        {
          "output_type": "stream",
          "text": [
            "/usr/local/lib/python3.7/dist-packages/ipykernel_launcher.py:21: SettingWithCopyWarning: \n",
            "A value is trying to be set on a copy of a slice from a DataFrame.\n",
            "Try using .loc[row_indexer,col_indexer] = value instead\n",
            "\n",
            "See the caveats in the documentation: https://pandas.pydata.org/pandas-docs/stable/user_guide/indexing.html#returning-a-view-versus-a-copy\n"
          ],
          "name": "stderr"
        }
      ]
    },
    {
      "cell_type": "code",
      "metadata": {
        "id": "G911h0muXmqJ"
      },
      "source": [
        "#cases = 0.00509737*male - 0.01244741*median_age_2019 + "
      ],
      "execution_count": null,
      "outputs": []
    },
    {
      "cell_type": "markdown",
      "metadata": {
        "id": "IkVE8aqVXjvE"
      },
      "source": [
        ""
      ]
    },
    {
      "cell_type": "code",
      "metadata": {
        "colab": {
          "base_uri": "https://localhost:8080/",
          "height": 326
        },
        "id": "T_FeC-J5WTNc",
        "outputId": "cdc9a2b5-41f1-4cb5-acc4-40160f215819"
      },
      "source": [
        "columns = df1.columns\n",
        "columns = columns.drop([\"cases_per_capita\", \"prediction\"])\n",
        "df1[columns] = df[columns]\n",
        "df1.head()"
      ],
      "execution_count": null,
      "outputs": [
        {
          "output_type": "stream",
          "text": [
            "/usr/local/lib/python3.7/dist-packages/pandas/core/frame.py:3069: SettingWithCopyWarning: \n",
            "A value is trying to be set on a copy of a slice from a DataFrame.\n",
            "Try using .loc[row_indexer,col_indexer] = value instead\n",
            "\n",
            "See the caveats in the documentation: https://pandas.pydata.org/pandas-docs/stable/user_guide/indexing.html#returning-a-view-versus-a-copy\n",
            "  self[k1] = value[k2]\n"
          ],
          "name": "stderr"
        },
        {
          "output_type": "execute_result",
          "data": {
            "text/html": [
              "<div>\n",
              "<style scoped>\n",
              "    .dataframe tbody tr th:only-of-type {\n",
              "        vertical-align: middle;\n",
              "    }\n",
              "\n",
              "    .dataframe tbody tr th {\n",
              "        vertical-align: top;\n",
              "    }\n",
              "\n",
              "    .dataframe thead th {\n",
              "        text-align: right;\n",
              "    }\n",
              "</style>\n",
              "<table border=\"1\" class=\"dataframe\">\n",
              "  <thead>\n",
              "    <tr style=\"text-align: right;\">\n",
              "      <th></th>\n",
              "      <th>male_2019</th>\n",
              "      <th>median_age_2019</th>\n",
              "      <th>household_has_computer_2019</th>\n",
              "      <th>per_point_diff</th>\n",
              "      <th>Series_Complete_Pop_Pct</th>\n",
              "      <th>two_plus_races_2019</th>\n",
              "      <th>unemployment_rate_2019</th>\n",
              "      <th>black_2019</th>\n",
              "      <th>TOT_POP</th>\n",
              "      <th>cases_per_capita</th>\n",
              "      <th>prediction</th>\n",
              "    </tr>\n",
              "  </thead>\n",
              "  <tbody>\n",
              "    <tr>\n",
              "      <th>0</th>\n",
              "      <td>48.492008</td>\n",
              "      <td>38.2</td>\n",
              "      <td>73.0</td>\n",
              "      <td>0.444184</td>\n",
              "      <td>26.1</td>\n",
              "      <td>2.2</td>\n",
              "      <td>3.5</td>\n",
              "      <td>19.0</td>\n",
              "      <td>55869</td>\n",
              "      <td>0.134254</td>\n",
              "      <td>0.112035</td>\n",
              "    </tr>\n",
              "    <tr>\n",
              "      <th>1</th>\n",
              "      <td>48.490373</td>\n",
              "      <td>43.0</td>\n",
              "      <td>76.3</td>\n",
              "      <td>0.537623</td>\n",
              "      <td>31.4</td>\n",
              "      <td>1.7</td>\n",
              "      <td>4.0</td>\n",
              "      <td>9.3</td>\n",
              "      <td>223234</td>\n",
              "      <td>0.112400</td>\n",
              "      <td>0.101985</td>\n",
              "    </tr>\n",
              "    <tr>\n",
              "      <th>2</th>\n",
              "      <td>52.920684</td>\n",
              "      <td>40.4</td>\n",
              "      <td>51.9</td>\n",
              "      <td>0.076631</td>\n",
              "      <td>27.7</td>\n",
              "      <td>1.2</td>\n",
              "      <td>9.4</td>\n",
              "      <td>47.6</td>\n",
              "      <td>24686</td>\n",
              "      <td>0.096092</td>\n",
              "      <td>0.126162</td>\n",
              "    </tr>\n",
              "    <tr>\n",
              "      <th>3</th>\n",
              "      <td>53.268733</td>\n",
              "      <td>40.9</td>\n",
              "      <td>54.7</td>\n",
              "      <td>0.577280</td>\n",
              "      <td>22.5</td>\n",
              "      <td>0.6</td>\n",
              "      <td>7.0</td>\n",
              "      <td>22.3</td>\n",
              "      <td>22394</td>\n",
              "      <td>0.125106</td>\n",
              "      <td>0.132306</td>\n",
              "    </tr>\n",
              "    <tr>\n",
              "      <th>4</th>\n",
              "      <td>49.237367</td>\n",
              "      <td>40.7</td>\n",
              "      <td>63.5</td>\n",
              "      <td>0.800022</td>\n",
              "      <td>19.3</td>\n",
              "      <td>1.6</td>\n",
              "      <td>3.1</td>\n",
              "      <td>1.6</td>\n",
              "      <td>57826</td>\n",
              "      <td>0.124738</td>\n",
              "      <td>0.119706</td>\n",
              "    </tr>\n",
              "  </tbody>\n",
              "</table>\n",
              "</div>"
            ],
            "text/plain": [
              "   male_2019  median_age_2019  ...  cases_per_capita  prediction\n",
              "0  48.492008             38.2  ...          0.134254    0.112035\n",
              "1  48.490373             43.0  ...          0.112400    0.101985\n",
              "2  52.920684             40.4  ...          0.096092    0.126162\n",
              "3  53.268733             40.9  ...          0.125106    0.132306\n",
              "4  49.237367             40.7  ...          0.124738    0.119706\n",
              "\n",
              "[5 rows x 11 columns]"
            ]
          },
          "metadata": {
            "tags": []
          },
          "execution_count": 39
        }
      ]
    },
    {
      "cell_type": "code",
      "metadata": {
        "id": "5WgwMA8DwMYR"
      },
      "source": [
        "def predictCases(df_func):\n",
        "  columns = [\"male_2019\", \"median_age_2019\", \"household_has_computer_2019\", \"per_point_diff\", \n",
        "             \"Series_Complete_Pop_Pct\", \"two_plus_races_2019\",\"unemployment_rate_2019\", \n",
        "             \"black_2019\", \"TOT_POP\"]\n",
        "  for thing in columns:\n",
        "    if thing not in df_func.columns:\n",
        "      df_func[thing] = df1[thing].mean\n",
        "  df_func[columns] = scaler.fit_transform(df_func[columns])\n",
        "  y_pred = linreg2.predict(df_func[columns])\n",
        "  return y_pred"
      ],
      "execution_count": null,
      "outputs": []
    },
    {
      "cell_type": "markdown",
      "metadata": {
        "id": "nFSK-PprmZCq"
      },
      "source": [
        "# Graphing"
      ]
    },
    {
      "cell_type": "code",
      "metadata": {
        "id": "0CEfEDueYomu",
        "colab": {
          "base_uri": "https://localhost:8080/",
          "height": 224
        },
        "outputId": "e534600e-fe03-45fd-c07c-8b015cc4b38e"
      },
      "source": [
        "#df_more_men = df1.filter(df1.male_2019)\n",
        "df_more_men = df1[df1.male_2019 > 50]\n",
        "df_more_men.head()"
      ],
      "execution_count": null,
      "outputs": [
        {
          "output_type": "execute_result",
          "data": {
            "text/html": [
              "<div>\n",
              "<style scoped>\n",
              "    .dataframe tbody tr th:only-of-type {\n",
              "        vertical-align: middle;\n",
              "    }\n",
              "\n",
              "    .dataframe tbody tr th {\n",
              "        vertical-align: top;\n",
              "    }\n",
              "\n",
              "    .dataframe thead th {\n",
              "        text-align: right;\n",
              "    }\n",
              "</style>\n",
              "<table border=\"1\" class=\"dataframe\">\n",
              "  <thead>\n",
              "    <tr style=\"text-align: right;\">\n",
              "      <th></th>\n",
              "      <th>male_2019</th>\n",
              "      <th>median_age_2019</th>\n",
              "      <th>household_has_computer_2019</th>\n",
              "      <th>per_point_diff</th>\n",
              "      <th>Series_Complete_Pop_Pct</th>\n",
              "      <th>two_plus_races_2019</th>\n",
              "      <th>unemployment_rate_2019</th>\n",
              "      <th>black_2019</th>\n",
              "      <th>TOT_POP</th>\n",
              "      <th>cases_per_capita</th>\n",
              "      <th>prediction</th>\n",
              "    </tr>\n",
              "  </thead>\n",
              "  <tbody>\n",
              "    <tr>\n",
              "      <th>2</th>\n",
              "      <td>52.920684</td>\n",
              "      <td>40.4</td>\n",
              "      <td>51.9</td>\n",
              "      <td>0.076631</td>\n",
              "      <td>27.7</td>\n",
              "      <td>1.2</td>\n",
              "      <td>9.4</td>\n",
              "      <td>47.6</td>\n",
              "      <td>24686</td>\n",
              "      <td>0.096092</td>\n",
              "      <td>0.126162</td>\n",
              "    </tr>\n",
              "    <tr>\n",
              "      <th>3</th>\n",
              "      <td>53.268733</td>\n",
              "      <td>40.9</td>\n",
              "      <td>54.7</td>\n",
              "      <td>0.577280</td>\n",
              "      <td>22.5</td>\n",
              "      <td>0.6</td>\n",
              "      <td>7.0</td>\n",
              "      <td>22.3</td>\n",
              "      <td>22394</td>\n",
              "      <td>0.125106</td>\n",
              "      <td>0.132306</td>\n",
              "    </tr>\n",
              "    <tr>\n",
              "      <th>5</th>\n",
              "      <td>54.529255</td>\n",
              "      <td>40.2</td>\n",
              "      <td>52.5</td>\n",
              "      <td>-0.498591</td>\n",
              "      <td>34.2</td>\n",
              "      <td>0.8</td>\n",
              "      <td>4.1</td>\n",
              "      <td>74.8</td>\n",
              "      <td>10101</td>\n",
              "      <td>0.122560</td>\n",
              "      <td>0.127769</td>\n",
              "    </tr>\n",
              "    <tr>\n",
              "      <th>18</th>\n",
              "      <td>50.032824</td>\n",
              "      <td>48.4</td>\n",
              "      <td>55.3</td>\n",
              "      <td>0.334915</td>\n",
              "      <td>29.0</td>\n",
              "      <td>0.0</td>\n",
              "      <td>2.3</td>\n",
              "      <td>33.6</td>\n",
              "      <td>10663</td>\n",
              "      <td>0.107930</td>\n",
              "      <td>0.109981</td>\n",
              "    </tr>\n",
              "    <tr>\n",
              "      <th>26</th>\n",
              "      <td>50.296181</td>\n",
              "      <td>40.0</td>\n",
              "      <td>46.3</td>\n",
              "      <td>0.374041</td>\n",
              "      <td>22.1</td>\n",
              "      <td>1.0</td>\n",
              "      <td>11.5</td>\n",
              "      <td>32.1</td>\n",
              "      <td>36633</td>\n",
              "      <td>0.113879</td>\n",
              "      <td>0.126372</td>\n",
              "    </tr>\n",
              "  </tbody>\n",
              "</table>\n",
              "</div>"
            ],
            "text/plain": [
              "    male_2019  median_age_2019  ...  cases_per_capita  prediction\n",
              "2   52.920684             40.4  ...          0.096092    0.126162\n",
              "3   53.268733             40.9  ...          0.125106    0.132306\n",
              "5   54.529255             40.2  ...          0.122560    0.127769\n",
              "18  50.032824             48.4  ...          0.107930    0.109981\n",
              "26  50.296181             40.0  ...          0.113879    0.126372\n",
              "\n",
              "[5 rows x 11 columns]"
            ]
          },
          "metadata": {
            "tags": []
          },
          "execution_count": 40
        }
      ]
    },
    {
      "cell_type": "code",
      "metadata": {
        "id": "aHYO10f8fOQn"
      },
      "source": [
        "predictionMeanMore=df_more_men[\"prediction\"].mean()\n",
        "actualMeanMore=df_more_men[\"cases_per_capita\"].mean()"
      ],
      "execution_count": null,
      "outputs": []
    },
    {
      "cell_type": "code",
      "metadata": {
        "id": "l9l4qconeN0I"
      },
      "source": [
        "df_less_men = df1[df1.male_2019 < 50]\n",
        "predictionMeanLess=df_less_men[\"prediction\"].mean()\n",
        "actualMeanLess= df_less_men[\"cases_per_capita\"].mean()\n"
      ],
      "execution_count": null,
      "outputs": []
    },
    {
      "cell_type": "code",
      "metadata": {
        "id": "DK9IKKqlhcxk"
      },
      "source": [
        "listToPlot = [predictionMeanMore, actualMeanMore, predictionMeanLess, actualMeanLess]\n",
        "listY = [\"More Men Pred\", \"More Men Actual\", \"Less Men Pred\", \"More Men Actual\"]"
      ],
      "execution_count": null,
      "outputs": []
    },
    {
      "cell_type": "code",
      "metadata": {
        "colab": {
          "base_uri": "https://localhost:8080/",
          "height": 585
        },
        "id": "5NbIKTbGhuV0",
        "outputId": "534c544f-3135-4b70-ba89-cd3357e3ec41"
      },
      "source": [
        "plt.figure(figsize=(12,8))\n",
        "plt.bar(range(len(listToPlot)), listToPlot)\n",
        "plt.xticks(range(len(listToPlot)), listY, rotation=90)\n",
        "plt.title(\"Gender vs Cases Per Capita\")\n",
        "plt.tight_layout()"
      ],
      "execution_count": null,
      "outputs": [
        {
          "output_type": "display_data",
          "data": {
            "image/png": "[encoded data removed]",
            "text/plain": [
              "<Figure size 864x576 with 1 Axes>"
            ]
          },
          "metadata": {
            "tags": [],
            "needs_background": "light"
          }
        }
      ]
    },
    {
      "cell_type": "code",
      "metadata": {
        "colab": {
          "base_uri": "https://localhost:8080/"
        },
        "id": "abI1TY11jGJo",
        "outputId": "8718ca4e-c71a-4490-8dbc-4fb1edaf5138"
      },
      "source": [
        "df_old = df1[df1.median_age_2019 >= 44]\n",
        "df_old.head()\n",
        "df_old.size\n"
      ],
      "execution_count": null,
      "outputs": [
        {
          "output_type": "execute_result",
          "data": {
            "text/plain": [
              "9856"
            ]
          },
          "metadata": {
            "tags": []
          },
          "execution_count": 45
        }
      ]
    },
    {
      "cell_type": "code",
      "metadata": {
        "colab": {
          "base_uri": "https://localhost:8080/"
        },
        "id": "aHECdHzzjlhU",
        "outputId": "6633f914-1ecb-4b62-d35d-03a1b4a65d82"
      },
      "source": [
        "df_middle = df1[df1.median_age_2019 > 40]\n",
        "df_middle = df_middle[df_middle.median_age_2019 < 44]\n",
        "df_middle.head()\n",
        "df_middle.size"
      ],
      "execution_count": null,
      "outputs": [
        {
          "output_type": "execute_result",
          "data": {
            "text/plain": [
              "11132"
            ]
          },
          "metadata": {
            "tags": []
          },
          "execution_count": 46
        }
      ]
    },
    {
      "cell_type": "code",
      "metadata": {
        "colab": {
          "base_uri": "https://localhost:8080/"
        },
        "id": "tS99d6jMjlqO",
        "outputId": "7f5fdda7-de5c-4581-80b9-f82d32b02418"
      },
      "source": [
        "df_young = df1[df1.median_age_2019 <= 40]\n",
        "#df_young = dfyoung[dfyoung.median_age_2019 > 3]\n",
        "df_young.head()\n",
        "df_young.size"
      ],
      "execution_count": null,
      "outputs": [
        {
          "output_type": "execute_result",
          "data": {
            "text/plain": [
              "12474"
            ]
          },
          "metadata": {
            "tags": []
          },
          "execution_count": 47
        }
      ]
    },
    {
      "cell_type": "code",
      "metadata": {
        "id": "YxiQwGZKjR1N"
      },
      "source": [
        "predictionAgeOld=df_old[\"prediction\"].mean()\n",
        "actualAgeOld=df_old[\"cases_per_capita\"].mean()\n",
        "\n",
        "predictionAgeMiddle=df_middle[\"prediction\"].mean()\n",
        "actualAgeMiddle=df_middle[\"cases_per_capita\"].mean()\n",
        "\n",
        "predictionAgeYoung=df_young[\"prediction\"].mean()\n",
        "actualAgeYoung=df_young[\"cases_per_capita\"].mean()"
      ],
      "execution_count": null,
      "outputs": []
    },
    {
      "cell_type": "code",
      "metadata": {
        "id": "psMHtdU7lje5"
      },
      "source": [
        "listToPlot = [predictionAgeOld, actualAgeOld, predictionAgeMiddle, actualAgeMiddle, predictionAgeYoung, actualAgeYoung]\n",
        "listY = [\"Pred old\", \"Actual old\", \"Pred middle\", \"Actual middle\", \"Pred Young\", \"Actual Young\"]"
      ],
      "execution_count": null,
      "outputs": []
    },
    {
      "cell_type": "code",
      "metadata": {
        "colab": {
          "base_uri": "https://localhost:8080/",
          "height": 585
        },
        "id": "ejwaYVQqlfNO",
        "outputId": "61854c66-404e-4756-b6ed-33bda5c666a6"
      },
      "source": [
        "plt.figure(figsize=(12,8))\n",
        "plt.bar(range(len(listToPlot)), listToPlot)\n",
        "plt.xticks(range(len(listToPlot)), listY, rotation=90)\n",
        "plt.title('Median Age vs Cases Per Capita')\n",
        "plt.tight_layout()"
      ],
      "execution_count": null,
      "outputs": [
        {
          "output_type": "display_data",
          "data": {
            "image/png": "[encoded data removed]",
            "text/plain": [
              "<Figure size 864x576 with 1 Axes>"
            ]
          },
          "metadata": {
            "tags": [],
            "needs_background": "light"
          }
        }
      ]
    },
    {
      "cell_type": "code",
      "metadata": {
        "id": "PcMse0wdmgCA",
        "colab": {
          "base_uri": "https://localhost:8080/"
        },
        "outputId": "41c1b6e9-41eb-4183-f37b-1d96dd17d263"
      },
      "source": [
        "df_comp1 = df1[df1.household_has_computer_2019 >= 75]\n",
        "df_comp1.size\n",
        "\n",
        "\n",
        "#60, 60-80, 80"
      ],
      "execution_count": null,
      "outputs": [
        {
          "output_type": "execute_result",
          "data": {
            "text/plain": [
              "10945"
            ]
          },
          "metadata": {
            "tags": []
          },
          "execution_count": 51
        }
      ]
    },
    {
      "cell_type": "code",
      "metadata": {
        "id": "7Ot5ZNJTnESK",
        "colab": {
          "base_uri": "https://localhost:8080/"
        },
        "outputId": "dd5dcbfc-5d60-4fd1-eeed-0a76c8d1f79b"
      },
      "source": [
        "df_comp2 = df1[df1.household_has_computer_2019 > 65]\n",
        "df_comp2 = df_comp2[df_comp2 < 72]\n",
        "df_comp2.size"
      ],
      "execution_count": null,
      "outputs": [
        {
          "output_type": "execute_result",
          "data": {
            "text/plain": [
              "24101"
            ]
          },
          "metadata": {
            "tags": []
          },
          "execution_count": 52
        }
      ]
    },
    {
      "cell_type": "code",
      "metadata": {
        "id": "FWEcJwIKnEUk",
        "colab": {
          "base_uri": "https://localhost:8080/"
        },
        "outputId": "7694b40a-1d25-4710-c48d-5f01694fe746"
      },
      "source": [
        "df_comp3 = df1[df1.household_has_computer_2019 <= 65]\n",
        "df_comp3.size"
      ],
      "execution_count": null,
      "outputs": [
        {
          "output_type": "execute_result",
          "data": {
            "text/plain": [
              "9361"
            ]
          },
          "metadata": {
            "tags": []
          },
          "execution_count": 53
        }
      ]
    },
    {
      "cell_type": "code",
      "metadata": {
        "id": "oX1ztM5gnEch"
      },
      "source": [
        "predictionComp1=df_comp1[\"prediction\"].mean()\n",
        "actualComp1=df_comp1[\"cases_per_capita\"].mean()\n",
        "\n",
        "predictionComp2=df_comp2[\"prediction\"].mean()\n",
        "actualComp2=df_comp2[\"cases_per_capita\"].mean()\n",
        "\n",
        "predictionComp3=df_comp3[\"prediction\"].mean()\n",
        "actualComp3=df_comp3[\"cases_per_capita\"].mean()"
      ],
      "execution_count": null,
      "outputs": []
    },
    {
      "cell_type": "code",
      "metadata": {
        "id": "_IMq-HlFnEfu"
      },
      "source": [
        "listToPlot = [predictionComp1, actualComp1, predictionComp2, actualComp2, predictionComp3, actualComp3]\n",
        "listY = [\"Pred 75+\", \"Actual 75+\", \"Pred 75-65\", \"Actual 75-65\", \"Pred below 65\", \"Actual below 65\"]"
      ],
      "execution_count": null,
      "outputs": []
    },
    {
      "cell_type": "code",
      "metadata": {
        "id": "RoDMh87NnEig",
        "colab": {
          "base_uri": "https://localhost:8080/",
          "height": 585
        },
        "outputId": "c3b88c77-703f-4ad0-83d4-3fa91fe0acd0"
      },
      "source": [
        "plt.figure(figsize=(12,8))\n",
        "plt.bar(range(len(listToPlot)), listToPlot)\n",
        "plt.xticks(range(len(listToPlot)), listY, rotation=90)\n",
        "plt.title('Percent Households with Computer vs Cases Per Capita')\n",
        "plt.tight_layout()"
      ],
      "execution_count": null,
      "outputs": [
        {
          "output_type": "display_data",
          "data": {
            "image/png": "[encoded data removed]",
            "text/plain": [
              "<Figure size 864x576 with 1 Axes>"
            ]
          },
          "metadata": {
            "tags": [],
            "needs_background": "light"
          }
        }
      ]
    }
  ]
}